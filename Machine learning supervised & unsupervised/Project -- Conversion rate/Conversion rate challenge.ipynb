{
 "cells": [
  {
   "cell_type": "markdown",
   "metadata": {},
   "source": [
    "# Conversion Rate Challenge\n",
    "\n",
    "\n",
    "<img src=\"image.jpg\" width=600 height=300 align=left>\n",
    "\n"
   ]
  },
  {
   "cell_type": "markdown",
   "metadata": {},
   "source": [
    "# Description\n",
    "\n",
    "We have collected data about users of a _anonymous_ company's website. Your project is :\n",
    "\n",
    "1. Create a model to predict the conversion rate (will the user convert or not?).\n",
    "\n",
    "2. Find recommendations for the Product & Marketing team to make so that they can improve the conversion rate.\n",
    "\n",
    "Optimizing conversion rates is one of the most important tasks of a data scientist.\n",
    "\n",
    "## Table of Contents <a class=\"anchor\" id=\"0\"></a>\n",
    "\n",
    "I.   [Exploratory data analysis](#1)<br/>\n",
    "\n",
    "II.  [Data visualization](#2)<br/>\n",
    "\n",
    "III. [Logistic Regression](#3)<br/>\n",
    "\n",
    "   1.  [Dataset with all](#1a) <br/>\n",
    "   2.  [Dataset without outlier and normalize](#1b)<br/>\n",
    "   3.  [Confusion matrix](#1c)<br/>\n",
    "   4.  [Classification report](#1d)<br/>\n",
    "   5.  [Precision - Recall Curve](#1d)<br/>\n",
    "\n",
    "IV.  [Random over-sampling the minority class with Logistic Regression](#4) <br/>\n",
    "\n",
    "V.   [Random under-sampling the majority class with Logistic Regression](#5) <br/>\n",
    "  \n",
    "   1.  [Logistic Regression](#3a) <br/>\n",
    "   2.  [Ridge and/or Lasso Classifier or \"None\"](#3b)<br/>\n",
    "\n",
    "VI.  [Apply Tree-Based Algorithms](#6)<br/>\n",
    "\n",
    "   1.  [Random Forest classifier](#2a) <br/>\n",
    "   2.  [Comparaison method between gini and entropy](#2b)<br/>\n",
    "   3.  [GridsearchCV](#2c)<br/>\n",
    "   4.  [Under-sampling the majority class with random forest](#2d)<br/>\n",
    "   \n",
    "VII.  [SMOTETomek](#7) <br/>\n",
    "\n",
    "\n",
    "VIII. [Last logistic regression with class_weight](#8) <br/>"
   ]
  },
  {
   "cell_type": "code",
   "execution_count": 2,
   "metadata": {},
   "outputs": [],
   "source": [
    "# standard\n",
    "import pandas as pd\n",
    "import numpy as np\n",
    "\n",
    "# visualization\n",
    "import seaborn as sns\n",
    "import matplotlib.pyplot as plt\n",
    "import plotly.express as px\n",
    "import plotly.graph_objects as go\n",
    "%matplotlib inline\n",
    "\n",
    "from collections import Counter\n",
    "# displays all columns and rows\n",
    "#pd.set_option('display.max_columns', None)\n",
    "#pd.set_option('display.max_rows', None)\n"
   ]
  },
  {
   "cell_type": "code",
   "execution_count": 3,
   "metadata": {},
   "outputs": [
    {
     "data": {
      "text/html": [
       "<div>\n",
       "<style scoped>\n",
       "    .dataframe tbody tr th:only-of-type {\n",
       "        vertical-align: middle;\n",
       "    }\n",
       "\n",
       "    .dataframe tbody tr th {\n",
       "        vertical-align: top;\n",
       "    }\n",
       "\n",
       "    .dataframe thead th {\n",
       "        text-align: right;\n",
       "    }\n",
       "</style>\n",
       "<table border=\"1\" class=\"dataframe\">\n",
       "  <thead>\n",
       "    <tr style=\"text-align: right;\">\n",
       "      <th></th>\n",
       "      <th>country</th>\n",
       "      <th>age</th>\n",
       "      <th>new_user</th>\n",
       "      <th>source</th>\n",
       "      <th>total_pages_visited</th>\n",
       "      <th>converted</th>\n",
       "    </tr>\n",
       "  </thead>\n",
       "  <tbody>\n",
       "    <tr>\n",
       "      <th>0</th>\n",
       "      <td>UK</td>\n",
       "      <td>25</td>\n",
       "      <td>1</td>\n",
       "      <td>Ads</td>\n",
       "      <td>1</td>\n",
       "      <td>0</td>\n",
       "    </tr>\n",
       "    <tr>\n",
       "      <th>1</th>\n",
       "      <td>US</td>\n",
       "      <td>23</td>\n",
       "      <td>1</td>\n",
       "      <td>Seo</td>\n",
       "      <td>5</td>\n",
       "      <td>0</td>\n",
       "    </tr>\n",
       "    <tr>\n",
       "      <th>2</th>\n",
       "      <td>US</td>\n",
       "      <td>28</td>\n",
       "      <td>1</td>\n",
       "      <td>Seo</td>\n",
       "      <td>4</td>\n",
       "      <td>0</td>\n",
       "    </tr>\n",
       "    <tr>\n",
       "      <th>3</th>\n",
       "      <td>China</td>\n",
       "      <td>39</td>\n",
       "      <td>1</td>\n",
       "      <td>Seo</td>\n",
       "      <td>5</td>\n",
       "      <td>0</td>\n",
       "    </tr>\n",
       "    <tr>\n",
       "      <th>4</th>\n",
       "      <td>US</td>\n",
       "      <td>30</td>\n",
       "      <td>1</td>\n",
       "      <td>Seo</td>\n",
       "      <td>6</td>\n",
       "      <td>0</td>\n",
       "    </tr>\n",
       "    <tr>\n",
       "      <th>5</th>\n",
       "      <td>US</td>\n",
       "      <td>31</td>\n",
       "      <td>0</td>\n",
       "      <td>Seo</td>\n",
       "      <td>1</td>\n",
       "      <td>0</td>\n",
       "    </tr>\n",
       "    <tr>\n",
       "      <th>6</th>\n",
       "      <td>China</td>\n",
       "      <td>27</td>\n",
       "      <td>1</td>\n",
       "      <td>Seo</td>\n",
       "      <td>4</td>\n",
       "      <td>0</td>\n",
       "    </tr>\n",
       "    <tr>\n",
       "      <th>7</th>\n",
       "      <td>US</td>\n",
       "      <td>23</td>\n",
       "      <td>0</td>\n",
       "      <td>Ads</td>\n",
       "      <td>4</td>\n",
       "      <td>0</td>\n",
       "    </tr>\n",
       "    <tr>\n",
       "      <th>8</th>\n",
       "      <td>UK</td>\n",
       "      <td>29</td>\n",
       "      <td>0</td>\n",
       "      <td>Direct</td>\n",
       "      <td>4</td>\n",
       "      <td>0</td>\n",
       "    </tr>\n",
       "    <tr>\n",
       "      <th>9</th>\n",
       "      <td>US</td>\n",
       "      <td>25</td>\n",
       "      <td>0</td>\n",
       "      <td>Ads</td>\n",
       "      <td>2</td>\n",
       "      <td>0</td>\n",
       "    </tr>\n",
       "  </tbody>\n",
       "</table>\n",
       "</div>"
      ],
      "text/plain": [
       "  country  age  new_user  source  total_pages_visited  converted\n",
       "0      UK   25         1     Ads                    1          0\n",
       "1      US   23         1     Seo                    5          0\n",
       "2      US   28         1     Seo                    4          0\n",
       "3   China   39         1     Seo                    5          0\n",
       "4      US   30         1     Seo                    6          0\n",
       "5      US   31         0     Seo                    1          0\n",
       "6   China   27         1     Seo                    4          0\n",
       "7      US   23         0     Ads                    4          0\n",
       "8      UK   29         0  Direct                    4          0\n",
       "9      US   25         0     Ads                    2          0"
      ]
     },
     "execution_count": 3,
     "metadata": {},
     "output_type": "execute_result"
    }
   ],
   "source": [
    "# importing data\n",
    "CRC = pd.read_csv(\"conversion_data.csv\")\n",
    "CRC1 = pd.read_csv(\"conversion_data.csv\")\n",
    "# returns the first 10 rows\n",
    "CRC.head(10)"
   ]
  },
  {
   "cell_type": "code",
   "execution_count": 4,
   "metadata": {},
   "outputs": [
    {
     "data": {
      "text/plain": [
       "False    316198\n",
       "Name: total_pages_visited, dtype: int64"
      ]
     },
     "execution_count": 4,
     "metadata": {},
     "output_type": "execute_result"
    }
   ],
   "source": [
    "CRC1=CRC1[CRC1.age<100]\n",
    "CRC1['age'] = CRC1['age'].apply(np.log)\n",
    "CRC1['total_pages_visited'] = CRC1['total_pages_visited'].apply(np.log)\n",
    "CRC1.head(10)\n",
    "\n",
    "CRC1['total_pages_visited'].isna().value_counts()"
   ]
  },
  {
   "cell_type": "markdown",
   "metadata": {},
   "source": [
    "## Exploratory data analysis <a class=\"anchor\" id=\"1\"></a>\n",
    "[return to contents](#0)"
   ]
  },
  {
   "cell_type": "code",
   "execution_count": 5,
   "metadata": {},
   "outputs": [
    {
     "data": {
      "text/plain": [
       "Index(['country', 'age', 'new_user', 'source', 'total_pages_visited',\n",
       "       'converted'],\n",
       "      dtype='object')"
      ]
     },
     "execution_count": 5,
     "metadata": {},
     "output_type": "execute_result"
    }
   ],
   "source": [
    "# shows column headers\n",
    "CRC.columns"
   ]
  },
  {
   "cell_type": "code",
   "execution_count": 6,
   "metadata": {},
   "outputs": [
    {
     "name": "stdout",
     "output_type": "stream",
     "text": [
      "<class 'pandas.core.frame.DataFrame'>\n",
      "RangeIndex: 316200 entries, 0 to 316199\n",
      "Data columns (total 6 columns):\n",
      " #   Column               Non-Null Count   Dtype \n",
      "---  ------               --------------   ----- \n",
      " 0   country              316200 non-null  object\n",
      " 1   age                  316200 non-null  int64 \n",
      " 2   new_user             316200 non-null  int64 \n",
      " 3   source               316200 non-null  object\n",
      " 4   total_pages_visited  316200 non-null  int64 \n",
      " 5   converted            316200 non-null  int64 \n",
      "dtypes: int64(4), object(2)\n",
      "memory usage: 14.5+ MB\n"
     ]
    }
   ],
   "source": [
    "# describe and info on dataset\n",
    "CRC.info()"
   ]
  },
  {
   "cell_type": "code",
   "execution_count": 7,
   "metadata": {},
   "outputs": [
    {
     "data": {
      "text/html": [
       "<div>\n",
       "<style scoped>\n",
       "    .dataframe tbody tr th:only-of-type {\n",
       "        vertical-align: middle;\n",
       "    }\n",
       "\n",
       "    .dataframe tbody tr th {\n",
       "        vertical-align: top;\n",
       "    }\n",
       "\n",
       "    .dataframe thead th {\n",
       "        text-align: right;\n",
       "    }\n",
       "</style>\n",
       "<table border=\"1\" class=\"dataframe\">\n",
       "  <thead>\n",
       "    <tr style=\"text-align: right;\">\n",
       "      <th></th>\n",
       "      <th>age</th>\n",
       "      <th>new_user</th>\n",
       "      <th>total_pages_visited</th>\n",
       "      <th>converted</th>\n",
       "    </tr>\n",
       "  </thead>\n",
       "  <tbody>\n",
       "    <tr>\n",
       "      <th>count</th>\n",
       "      <td>316200.000000</td>\n",
       "      <td>316200.000000</td>\n",
       "      <td>316200.000000</td>\n",
       "      <td>316200.000000</td>\n",
       "    </tr>\n",
       "    <tr>\n",
       "      <th>mean</th>\n",
       "      <td>30.569858</td>\n",
       "      <td>0.685465</td>\n",
       "      <td>4.872966</td>\n",
       "      <td>0.032258</td>\n",
       "    </tr>\n",
       "    <tr>\n",
       "      <th>std</th>\n",
       "      <td>8.271802</td>\n",
       "      <td>0.464331</td>\n",
       "      <td>3.341104</td>\n",
       "      <td>0.176685</td>\n",
       "    </tr>\n",
       "    <tr>\n",
       "      <th>min</th>\n",
       "      <td>17.000000</td>\n",
       "      <td>0.000000</td>\n",
       "      <td>1.000000</td>\n",
       "      <td>0.000000</td>\n",
       "    </tr>\n",
       "    <tr>\n",
       "      <th>25%</th>\n",
       "      <td>24.000000</td>\n",
       "      <td>0.000000</td>\n",
       "      <td>2.000000</td>\n",
       "      <td>0.000000</td>\n",
       "    </tr>\n",
       "    <tr>\n",
       "      <th>50%</th>\n",
       "      <td>30.000000</td>\n",
       "      <td>1.000000</td>\n",
       "      <td>4.000000</td>\n",
       "      <td>0.000000</td>\n",
       "    </tr>\n",
       "    <tr>\n",
       "      <th>75%</th>\n",
       "      <td>36.000000</td>\n",
       "      <td>1.000000</td>\n",
       "      <td>7.000000</td>\n",
       "      <td>0.000000</td>\n",
       "    </tr>\n",
       "    <tr>\n",
       "      <th>max</th>\n",
       "      <td>123.000000</td>\n",
       "      <td>1.000000</td>\n",
       "      <td>29.000000</td>\n",
       "      <td>1.000000</td>\n",
       "    </tr>\n",
       "  </tbody>\n",
       "</table>\n",
       "</div>"
      ],
      "text/plain": [
       "                 age       new_user  total_pages_visited      converted\n",
       "count  316200.000000  316200.000000        316200.000000  316200.000000\n",
       "mean       30.569858       0.685465             4.872966       0.032258\n",
       "std         8.271802       0.464331             3.341104       0.176685\n",
       "min        17.000000       0.000000             1.000000       0.000000\n",
       "25%        24.000000       0.000000             2.000000       0.000000\n",
       "50%        30.000000       1.000000             4.000000       0.000000\n",
       "75%        36.000000       1.000000             7.000000       0.000000\n",
       "max       123.000000       1.000000            29.000000       1.000000"
      ]
     },
     "execution_count": 7,
     "metadata": {},
     "output_type": "execute_result"
    }
   ],
   "source": [
    "CRC.describe()"
   ]
  },
  {
   "cell_type": "code",
   "execution_count": 8,
   "metadata": {},
   "outputs": [
    {
     "data": {
      "text/plain": [
       "source\n",
       "Ads       0.034483\n",
       "Direct    0.028169\n",
       "Seo       0.032895\n",
       "dtype: float64"
      ]
     },
     "execution_count": 8,
     "metadata": {},
     "output_type": "execute_result"
    }
   ],
   "source": [
    "CRC[ CRC.converted == 1].groupby('source').size()/CRC.groupby('source').size()"
   ]
  },
  {
   "cell_type": "code",
   "execution_count": 9,
   "metadata": {},
   "outputs": [
    {
     "data": {
      "text/plain": [
       "country\n",
       "China      0.001332\n",
       "Germany    0.062500\n",
       "UK         0.052632\n",
       "US         0.037801\n",
       "dtype: float64"
      ]
     },
     "execution_count": 9,
     "metadata": {},
     "output_type": "execute_result"
    }
   ],
   "source": [
    "CRC[ CRC.converted == 1].groupby('country').size()/CRC.groupby('country').size()"
   ]
  },
  {
   "cell_type": "code",
   "execution_count": 10,
   "metadata": {},
   "outputs": [
    {
     "data": {
      "text/plain": [
       "0    0.967742\n",
       "1    0.032258\n",
       "Name: converted, dtype: float64"
      ]
     },
     "execution_count": 10,
     "metadata": {},
     "output_type": "execute_result"
    }
   ],
   "source": [
    "CRC.converted.value_counts()/CRC.converted.value_counts().sum()"
   ]
  },
  {
   "cell_type": "code",
   "execution_count": 11,
   "metadata": {},
   "outputs": [
    {
     "data": {
      "text/plain": [
       "new_user\n",
       "0    0.072002\n",
       "1    0.014021\n",
       "dtype: float64"
      ]
     },
     "execution_count": 11,
     "metadata": {},
     "output_type": "execute_result"
    }
   ],
   "source": [
    "CRC[ CRC.converted == 1].groupby('new_user').size()/CRC.groupby('new_user').size()"
   ]
  },
  {
   "cell_type": "code",
   "execution_count": 12,
   "metadata": {},
   "outputs": [
    {
     "name": "stdout",
     "output_type": "stream",
     "text": [
      "Seo       155040\n",
      "Ads        88740\n",
      "Direct     72420\n",
      "Name: source, dtype: int64\n",
      "US         178092\n",
      "China       76602\n",
      "UK          48450\n",
      "Germany     13056\n",
      "Name: country, dtype: int64\n"
     ]
    }
   ],
   "source": [
    "CRC.shape\n",
    "print(CRC['source'].value_counts())\n",
    "print(CRC['country'].value_counts())"
   ]
  },
  {
   "cell_type": "code",
   "execution_count": 13,
   "metadata": {},
   "outputs": [
    {
     "data": {
      "text/plain": [
       "country                False\n",
       "age                    False\n",
       "new_user               False\n",
       "source                 False\n",
       "total_pages_visited    False\n",
       "converted              False\n",
       "dtype: bool"
      ]
     },
     "execution_count": 13,
     "metadata": {},
     "output_type": "execute_result"
    }
   ],
   "source": [
    "CRC.isnull().any()"
   ]
  },
  {
   "cell_type": "markdown",
   "metadata": {},
   "source": [
    "## Data visualization <a class=\"anchor\" id=\"2\"></a>\n",
    "[return to contents](#0)"
   ]
  },
  {
   "cell_type": "code",
   "execution_count": 14,
   "metadata": {},
   "outputs": [],
   "source": [
    "CRC_sample = CRC.sample(1000)"
   ]
  },
  {
   "cell_type": "code",
   "execution_count": 15,
   "metadata": {},
   "outputs": [
    {
     "data": {
      "text/plain": [
       "<seaborn.axisgrid.FacetGrid at 0x24da5a02b88>"
      ]
     },
     "execution_count": 15,
     "metadata": {},
     "output_type": "execute_result"
    },
    {
     "data": {
      "image/png": "[encoded data removed]",
      "text/plain": [
       "<Figure size 446.375x360 with 1 Axes>"
      ]
     },
     "metadata": {
      "needs_background": "light"
     },
     "output_type": "display_data"
    }
   ],
   "source": [
    "sns.relplot(\n",
    "     x='age',\n",
    "     y='total_pages_visited',\n",
    "     data = CRC,\n",
    "     hue=CRC.converted)"
   ]
  },
  {
   "cell_type": "code",
   "execution_count": 16,
   "metadata": {},
   "outputs": [
    {
     "data": {
      "text/plain": [
       "<matplotlib.axes._subplots.AxesSubplot at 0x24da5bb1188>"
      ]
     },
     "execution_count": 16,
     "metadata": {},
     "output_type": "execute_result"
    },
    {
     "data": {
      "image/png": "[encoded data removed]",
      "text/plain": [
       "<Figure size 432x288 with 1 Axes>"
      ]
     },
     "metadata": {
      "needs_background": "light"
     },
     "output_type": "display_data"
    }
   ],
   "source": [
    "CRC.age.hist()"
   ]
  },
  {
   "cell_type": "code",
   "execution_count": 17,
   "metadata": {},
   "outputs": [
    {
     "data": {
      "text/plain": [
       "<matplotlib.axes._subplots.AxesSubplot at 0x24da5bf1708>"
      ]
     },
     "execution_count": 17,
     "metadata": {},
     "output_type": "execute_result"
    },
    {
     "data": {
      "image/png": "[encoded data removed]",
      "text/plain": [
       "<Figure size 432x288 with 1 Axes>"
      ]
     },
     "metadata": {
      "needs_background": "light"
     },
     "output_type": "display_data"
    }
   ],
   "source": [
    "CRC.age.apply(np.log).hist()"
   ]
  },
  {
   "cell_type": "code",
   "execution_count": 18,
   "metadata": {},
   "outputs": [
    {
     "data": {
      "text/plain": [
       "<matplotlib.axes._subplots.AxesSubplot at 0x24da5b2f408>"
      ]
     },
     "execution_count": 18,
     "metadata": {},
     "output_type": "execute_result"
    },
    {
     "data": {
      "image/png": "[encoded data removed]",
      "text/plain": [
       "<Figure size 432x288 with 1 Axes>"
      ]
     },
     "metadata": {
      "needs_background": "light"
     },
     "output_type": "display_data"
    }
   ],
   "source": [
    "CRC.total_pages_visited.hist()"
   ]
  },
  {
   "cell_type": "code",
   "execution_count": 19,
   "metadata": {},
   "outputs": [
    {
     "data": {
      "text/plain": [
       "<matplotlib.axes._subplots.AxesSubplot at 0x2b510d1fdc8>"
      ]
     },
     "execution_count": 19,
     "metadata": {},
     "output_type": "execute_result"
    },
    {
     "data": {
      "image/png": "[encoded data removed]",
      "text/plain": [
       "<Figure size 432x288 with 1 Axes>"
      ]
     },
     "metadata": {
      "needs_background": "light"
     },
     "output_type": "display_data"
    }
   ],
   "source": [
    "CRC.total_pages_visited.apply(np.log).hist()"
   ]
  },
  {
   "cell_type": "code",
   "execution_count": 20,
   "metadata": {},
   "outputs": [
    {
     "data": {
      "text/plain": [
       "<seaborn.axisgrid.FacetGrid at 0x2b510d8e108>"
      ]
     },
     "execution_count": 20,
     "metadata": {},
     "output_type": "execute_result"
    },
    {
     "data": {
      "image/png": "[encoded data removed]",
      "text/plain": [
       "<Figure size 360x360 with 1 Axes>"
      ]
     },
     "metadata": {
      "needs_background": "light"
     },
     "output_type": "display_data"
    }
   ],
   "source": [
    "sns.lmplot(x=\"total_pages_visited\", y=\"converted\", data=CRC_sample, logistic = True)"
   ]
  },
  {
   "cell_type": "code",
   "execution_count": 21,
   "metadata": {},
   "outputs": [
    {
     "data": {
      "text/plain": [
       "<seaborn.axisgrid.FacetGrid at 0x2b510f9d588>"
      ]
     },
     "execution_count": 21,
     "metadata": {},
     "output_type": "execute_result"
    },
    {
     "data": {
      "image/png": "[encoded data removed]",
      "text/plain": [
       "<Figure size 360x360 with 1 Axes>"
      ]
     },
     "metadata": {
      "needs_background": "light"
     },
     "output_type": "display_data"
    }
   ],
   "source": [
    "sns.lmplot(x=\"age\", y=\"converted\", data=CRC_sample, logistic = True)"
   ]
  },
  {
   "cell_type": "markdown",
   "metadata": {},
   "source": [
    "# Logistic Regression <a class=\"anchor\" id=\"3\"></a>\n",
    "[return to contents](#0)"
   ]
  },
  {
   "cell_type": "markdown",
   "metadata": {},
   "source": [
    "## Dataset with all <a class=\"anchor\" id=\"1a\"></a>"
   ]
  },
  {
   "cell_type": "code",
   "execution_count": 19,
   "metadata": {},
   "outputs": [
    {
     "data": {
      "text/plain": [
       "Index(['country', 'age', 'new_user', 'source', 'total_pages_visited',\n",
       "       'converted'],\n",
       "      dtype='object')"
      ]
     },
     "execution_count": 19,
     "metadata": {},
     "output_type": "execute_result"
    }
   ],
   "source": [
    "CRC.columns"
   ]
  },
  {
   "cell_type": "code",
   "execution_count": 20,
   "metadata": {},
   "outputs": [],
   "source": [
    "features_list = ['country', 'age', 'new_user', 'source', 'total_pages_visited']\n",
    "target_variable = \"converted\"\n",
    "\n",
    "X = CRC.loc[:,features_list]\n",
    "Y = CRC.loc[:,target_variable]"
   ]
  },
  {
   "cell_type": "code",
   "execution_count": 21,
   "metadata": {},
   "outputs": [
    {
     "name": "stdout",
     "output_type": "stream",
     "text": [
      "Found numeric features  ['age', 'new_user', 'total_pages_visited']  at positions  [1, 2, 4]\n",
      "Found categorical features  ['country', 'source']  at positions  [0, 3]\n"
     ]
    }
   ],
   "source": [
    "idx = 0\n",
    "numeric_features = []\n",
    "numeric_indices = []\n",
    "categorical_features = []\n",
    "categorical_indices = []\n",
    "for i,t in X.dtypes.iteritems():\n",
    "  if ('float' in str(t)) or ('int' in str(t)) :\n",
    "    numeric_features.append(i)\n",
    "    numeric_indices.append(idx)\n",
    "  else :\n",
    "    categorical_features.append(i)\n",
    "    categorical_indices.append(idx)\n",
    "\n",
    "  idx = idx + 1\n",
    "\n",
    "print('Found numeric features ', numeric_features,' at positions ', numeric_indices)\n",
    "print('Found categorical features ', categorical_features,' at positions ', categorical_indices)"
   ]
  },
  {
   "cell_type": "code",
   "execution_count": 22,
   "metadata": {},
   "outputs": [],
   "source": [
    "from sklearn.model_selection import train_test_split\n",
    "X_train, X_test, Y_train, Y_test = train_test_split(X, Y, test_size=0.33, \n",
    "                                                    random_state=0, stratify=Y)"
   ]
  },
  {
   "cell_type": "code",
   "execution_count": 23,
   "metadata": {},
   "outputs": [],
   "source": [
    "X_train = X_train.values\n",
    "X_test = X_test.values\n",
    "Y_train = Y_train.tolist()\n",
    "Y_test = Y_test.tolist()"
   ]
  },
  {
   "cell_type": "code",
   "execution_count": 24,
   "metadata": {},
   "outputs": [],
   "source": [
    "\n",
    "from sklearn.preprocessing import StandardScaler\n",
    "from sklearn.preprocessing import  OneHotEncoder\n",
    "from sklearn.compose import ColumnTransformer\n",
    "\n",
    "# Normalization\n",
    "numeric_transformer = StandardScaler()\n",
    "\n",
    "# OHE / dummyfication\n",
    "categorical_transformer = OneHotEncoder(drop='first')\n",
    "\n",
    "featureencoder = ColumnTransformer(\n",
    "    transformers=[\n",
    "        ('cat', categorical_transformer, categorical_indices),    \n",
    "        ('num', numeric_transformer, numeric_indices)\n",
    "        ]\n",
    "    )\n",
    "\n",
    "X_train = featureencoder.fit_transform(X_train)\n",
    "\n",
    "X_test = featureencoder.transform(X_test)"
   ]
  },
  {
   "cell_type": "code",
   "execution_count": 25,
   "metadata": {},
   "outputs": [
    {
     "data": {
      "text/plain": [
       "LogisticRegression(C=1.0, class_weight=None, dual=False, fit_intercept=True,\n",
       "                   intercept_scaling=1, l1_ratio=None, max_iter=100,\n",
       "                   multi_class='auto', n_jobs=None, penalty='l2',\n",
       "                   random_state=None, solver='lbfgs', tol=0.0001, verbose=0,\n",
       "                   warm_start=False)"
      ]
     },
     "execution_count": 25,
     "metadata": {},
     "output_type": "execute_result"
    }
   ],
   "source": [
    "from sklearn.linear_model import LogisticRegression,LogisticRegressionCV\n",
    "regressor = LogisticRegression()\n",
    "regressor.fit(X_train, Y_train)"
   ]
  },
  {
   "cell_type": "code",
   "execution_count": 26,
   "metadata": {},
   "outputs": [
    {
     "name": "stdout",
     "output_type": "stream",
     "text": [
      "Accuracy on training set :  0.9861130778743852\n",
      "Accuracy on test set :  0.9863051770072643\n"
     ]
    }
   ],
   "source": [
    "from sklearn.metrics import accuracy_score\n",
    "Y_train_pred = regressor.predict(X_train)\n",
    "Y_test_pred = regressor.predict(X_test)\n",
    "\n",
    "print(\"Accuracy on training set : \", accuracy_score(Y_train, Y_train_pred))\n",
    "print(\"Accuracy on test set : \", accuracy_score(Y_test, Y_test_pred))"
   ]
  },
  {
   "cell_type": "code",
   "execution_count": 27,
   "metadata": {},
   "outputs": [
    {
     "name": "stdout",
     "output_type": "stream",
     "text": [
      "f1-score on train set :  0.7615496839033878\n",
      "f1-score on test set :  0.7639966969446738\n"
     ]
    }
   ],
   "source": [
    "from sklearn.metrics import f1_score\n",
    "print(\"f1-score on train set : \", f1_score(Y_train, Y_train_pred))\n",
    "print(\"f1-score on test set : \", f1_score(Y_test, Y_test_pred))"
   ]
  },
  {
   "cell_type": "markdown",
   "metadata": {},
   "source": [
    "## Dataset without outlier and normalize <a class=\"anchor\" id=\"1b\"></a>"
   ]
  },
  {
   "cell_type": "code",
   "execution_count": 28,
   "metadata": {},
   "outputs": [
    {
     "data": {
      "text/plain": [
       "(316198, 5)"
      ]
     },
     "execution_count": 28,
     "metadata": {},
     "output_type": "execute_result"
    }
   ],
   "source": [
    "features_list = [ 'country', 'age', 'new_user', 'source', 'total_pages_visited']\n",
    "target_variable = \"converted\"\n",
    "\n",
    "X1 = CRC1.loc[:,features_list]\n",
    "Y1 = CRC1.loc[:,target_variable]\n",
    "\n",
    "X1.shape"
   ]
  },
  {
   "cell_type": "code",
   "execution_count": 29,
   "metadata": {},
   "outputs": [
    {
     "name": "stdout",
     "output_type": "stream",
     "text": [
      "Found numeric features  ['age', 'new_user', 'total_pages_visited']  at positions  [1, 2, 4]\n",
      "Found categorical features  ['country', 'source']  at positions  [0, 3]\n"
     ]
    }
   ],
   "source": [
    "idx = 0\n",
    "numeric_features1 = []\n",
    "numeric_indices1 = []\n",
    "categorical_features1 = []\n",
    "categorical_indices1 = []\n",
    "for i,t in X1.dtypes.iteritems():\n",
    "  if ('float' in str(t)) or ('int' in str(t)) :\n",
    "    numeric_features1.append(i)\n",
    "    numeric_indices1.append(idx)\n",
    "  else :\n",
    "    categorical_features1.append(i)\n",
    "    categorical_indices1.append(idx)\n",
    "\n",
    "  idx = idx + 1\n",
    "\n",
    "print('Found numeric features ', numeric_features1,' at positions ', numeric_indices1)\n",
    "print('Found categorical features ', categorical_features1,' at positions ', categorical_indices1)"
   ]
  },
  {
   "cell_type": "code",
   "execution_count": 30,
   "metadata": {},
   "outputs": [],
   "source": [
    "X_train1, X_test1, Y_train1, Y_test1 = train_test_split(X1, Y1, test_size=0.33, \n",
    "                                                    random_state=0, stratify=Y1)"
   ]
  },
  {
   "cell_type": "code",
   "execution_count": 31,
   "metadata": {},
   "outputs": [],
   "source": [
    "X_train1 = X_train1.values\n",
    "X_test1 = X_test1.values\n",
    "Y_train1 = Y_train1.tolist()\n",
    "Y_test1 = Y_test1.tolist()"
   ]
  },
  {
   "cell_type": "code",
   "execution_count": 32,
   "metadata": {},
   "outputs": [],
   "source": [
    "# Normalization\n",
    "numeric_transformer1 = StandardScaler()\n",
    "\n",
    "# OHE / dummyfication\n",
    "categorical_transformer1 = OneHotEncoder(drop='first')\n",
    "\n",
    "featureencoder1 = ColumnTransformer(\n",
    "    transformers=[\n",
    "        ('cat', categorical_transformer1, categorical_indices1),    \n",
    "        ('num', numeric_transformer1, numeric_indices1)\n",
    "        ]\n",
    "    )\n",
    "\n",
    "X_train1 = featureencoder1.fit_transform(X_train1)\n",
    "\n",
    "X_test1 = featureencoder1.transform(X_test1)"
   ]
  },
  {
   "cell_type": "code",
   "execution_count": 33,
   "metadata": {},
   "outputs": [
    {
     "data": {
      "text/plain": [
       "LogisticRegression(C=1.0, class_weight=None, dual=False, fit_intercept=True,\n",
       "                   intercept_scaling=1, l1_ratio=None, max_iter=100,\n",
       "                   multi_class='auto', n_jobs=None, penalty='l2',\n",
       "                   random_state=None, solver='lbfgs', tol=0.0001, verbose=0,\n",
       "                   warm_start=False)"
      ]
     },
     "execution_count": 33,
     "metadata": {},
     "output_type": "execute_result"
    }
   ],
   "source": [
    "regressor1 = LogisticRegression()\n",
    "regressor1.fit(X_train1, Y_train1)"
   ]
  },
  {
   "cell_type": "code",
   "execution_count": 34,
   "metadata": {},
   "outputs": [
    {
     "name": "stdout",
     "output_type": "stream",
     "text": [
      "Accuracy on training set :  0.9859666182051621\n",
      "Accuracy on test set :  0.9862093419968183\n"
     ]
    }
   ],
   "source": [
    "from sklearn.metrics import accuracy_score\n",
    "Y_train_pred1 = regressor1.predict(X_train1)\n",
    "Y_test_pred1 = regressor1.predict(X_test1)\n",
    "\n",
    "print(\"Accuracy on training set : \", accuracy_score(Y_train1, Y_train_pred1))\n",
    "print(\"Accuracy on test set : \", accuracy_score(Y_test1, Y_test_pred1))"
   ]
  },
  {
   "cell_type": "code",
   "execution_count": 35,
   "metadata": {},
   "outputs": [
    {
     "data": {
      "text/plain": [
       "array([[ 3.40143524,  3.28591852,  2.92982466, -0.13284379,  0.01339244,\n",
       "        -0.5449424 , -0.76145294,  5.68801533]])"
      ]
     },
     "execution_count": 35,
     "metadata": {},
     "output_type": "execute_result"
    }
   ],
   "source": [
    "regressor1.coef_"
   ]
  },
  {
   "cell_type": "code",
   "execution_count": 36,
   "metadata": {},
   "outputs": [
    {
     "data": {
      "text/html": [
       "<div>\n",
       "<style scoped>\n",
       "    .dataframe tbody tr th:only-of-type {\n",
       "        vertical-align: middle;\n",
       "    }\n",
       "\n",
       "    .dataframe tbody tr th {\n",
       "        vertical-align: top;\n",
       "    }\n",
       "\n",
       "    .dataframe thead th {\n",
       "        text-align: right;\n",
       "    }\n",
       "</style>\n",
       "<table border=\"1\" class=\"dataframe\">\n",
       "  <thead>\n",
       "    <tr style=\"text-align: right;\">\n",
       "      <th></th>\n",
       "      <th>coefficients</th>\n",
       "    </tr>\n",
       "  </thead>\n",
       "  <tbody>\n",
       "    <tr>\n",
       "      <th>China</th>\n",
       "      <td>3.401435</td>\n",
       "    </tr>\n",
       "    <tr>\n",
       "      <th>UK</th>\n",
       "      <td>3.285919</td>\n",
       "    </tr>\n",
       "    <tr>\n",
       "      <th>Germany</th>\n",
       "      <td>2.929825</td>\n",
       "    </tr>\n",
       "    <tr>\n",
       "      <th>age</th>\n",
       "      <td>-0.132844</td>\n",
       "    </tr>\n",
       "    <tr>\n",
       "      <th>new_user</th>\n",
       "      <td>0.013392</td>\n",
       "    </tr>\n",
       "    <tr>\n",
       "      <th>Direct</th>\n",
       "      <td>-0.544942</td>\n",
       "    </tr>\n",
       "    <tr>\n",
       "      <th>Seo</th>\n",
       "      <td>-0.761453</td>\n",
       "    </tr>\n",
       "    <tr>\n",
       "      <th>total_pages_visited</th>\n",
       "      <td>5.688015</td>\n",
       "    </tr>\n",
       "  </tbody>\n",
       "</table>\n",
       "</div>"
      ],
      "text/plain": [
       "                     coefficients\n",
       "China                    3.401435\n",
       "UK                       3.285919\n",
       "Germany                  2.929825\n",
       "age                     -0.132844\n",
       "new_user                 0.013392\n",
       "Direct                  -0.544942\n",
       "Seo                     -0.761453\n",
       "total_pages_visited      5.688015"
      ]
     },
     "execution_count": 36,
     "metadata": {},
     "output_type": "execute_result"
    }
   ],
   "source": [
    "coefs1 = pd.DataFrame(index= [ 'China','UK', 'Germany', 'age', 'new_user', 'Direct','Seo', 'total_pages_visited'], data = regressor1.coef_.transpose(), columns=[\"coefficients\"])\n",
    "coefs1"
   ]
  },
  {
   "cell_type": "code",
   "execution_count": 37,
   "metadata": {},
   "outputs": [],
   "source": [
    "#'China','UK', 'Germany'"
   ]
  },
  {
   "cell_type": "code",
   "execution_count": 38,
   "metadata": {},
   "outputs": [
    {
     "name": "stdout",
     "output_type": "stream",
     "text": [
      "f1-score on train set :  0.7604544355813392\n",
      "f1-score on test set :  0.7639048400328139\n"
     ]
    }
   ],
   "source": [
    "from sklearn.metrics import f1_score\n",
    "print(\"f1-score on train set : \", f1_score(Y_train1, Y_train_pred1))\n",
    "print(\"f1-score on test set : \", f1_score(Y_test1, Y_test_pred1))"
   ]
  },
  {
   "cell_type": "markdown",
   "metadata": {},
   "source": [
    "### Accuracy\n",
    "\n",
    "Thus, our Logistic Regression model for conversion rate has an accuracy of ~98%. It means that for each pnegative conversion rate it classified, 98% were classified as genuine.\n",
    "\n",
    "It does not mean that our model performance is excellent. Our Logistic Regression classifier predicted all conversion as genuine. Then we have a accuracy of 98% because it correctly classified 98% conversion as genuine.\n",
    "\n",
    "Thus, this algorithm is 98% accurate. But it was horrible at classifying positive conversion. So, we should have other ways to measure the model performance. One such measure is confusion matrix described below."
   ]
  },
  {
   "cell_type": "markdown",
   "metadata": {},
   "source": [
    "## Confusion matrix <a class=\"anchor\" id=\"1c\"></a>\n",
    "\n",
    "A confusion matrix is a tool for summarizing the performance of a classification algorithm. A confusion matrix will give us a clear picture of classification model performance and the types of errors produced by the model. It gives us a summary of correct and incorrect predictions broken down by each category. The summary is represented in a tabular form.\n",
    "\n",
    "Four types of outcomes are possible while evaluating a classification model performance. These four outcomes are described below:-\n",
    "\n",
    "**True Positives (TP)** – True Positives occur when we predict an observation belongs to a certain class and the observation actually belongs to that class.\n",
    "\n",
    "**True Negatives (TN)** – True Negatives occur when we predict an observation does not belong to a certain class and the observation actually does not belong to that class.\n",
    "\n",
    "**False Positives (FP)** – False Positives occur when we predict an observation belongs to a certain class but the observation actually does not belong to that class. This type of error is called **Type I error**.\n",
    "\n",
    "**False Negatives (FN)** – False Negatives occur when we predict an observation does not belong to a certain class but the observation actually belongs to that class. This is a very serious error and it is called **Type II error**.\n",
    "\n",
    "These four outcomes are summarized in a confusion matrix given below.\n"
   ]
  },
  {
   "cell_type": "code",
   "execution_count": 34,
   "metadata": {},
   "outputs": [
    {
     "data": {
      "text/plain": [
       "<matplotlib.axes._subplots.AxesSubplot at 0x2846edd6d08>"
      ]
     },
     "execution_count": 34,
     "metadata": {},
     "output_type": "execute_result"
    },
    {
     "data": {
      "image/png": "[encoded data removed]",
      "text/plain": [
       "<Figure size 432x288 with 2 Axes>"
      ]
     },
     "metadata": {
      "needs_background": "light"
     },
     "output_type": "display_data"
    }
   ],
   "source": [
    "from sklearn.metrics import confusion_matrix\n",
    "cm = confusion_matrix(Y_test, Y_test_pred)\n",
    "sns.heatmap(cm, annot=True, fmt=\"d\")"
   ]
  },
  {
   "cell_type": "code",
   "execution_count": 35,
   "metadata": {},
   "outputs": [
    {
     "data": {
      "text/plain": [
       "<matplotlib.axes._subplots.AxesSubplot at 0x2846f0d5d48>"
      ]
     },
     "execution_count": 35,
     "metadata": {},
     "output_type": "execute_result"
    },
    {
     "data": {
      "image/png": "[encoded data removed]",
      "text/plain": [
       "<Figure size 432x288 with 2 Axes>"
      ]
     },
     "metadata": {
      "needs_background": "light"
     },
     "output_type": "display_data"
    }
   ],
   "source": [
    "from sklearn.metrics import confusion_matrix\n",
    "cm = confusion_matrix(Y_test1, Y_test_pred1)\n",
    "sns.heatmap(cm, annot=True, fmt=\"d\")"
   ]
  },
  {
   "cell_type": "markdown",
   "metadata": {},
   "source": [
    "### Interpretation of confusion matrix"
   ]
  },
  {
   "cell_type": "markdown",
   "metadata": {},
   "source": [
    "We can conclude that the accuracy of ~98% is misleading because we have imbalanced classes. We need more subtle way to evaluate the performance of the model.\n",
    "\n",
    "There is another metric called Classification Report which helps to evaluate model performance.\n",
    "\n"
   ]
  },
  {
   "cell_type": "markdown",
   "metadata": {},
   "source": [
    "## Classification report <a class=\"anchor\" id=\"1d\"></a>"
   ]
  },
  {
   "cell_type": "markdown",
   "metadata": {},
   "source": [
    "Classification report is another way to evaluate the classification model performance. It displays the precision, recall, f1 and support scores for the model. I have described these terms in later sections.\n",
    "\n",
    "We can plot a classification report as follows:-"
   ]
  },
  {
   "cell_type": "code",
   "execution_count": 36,
   "metadata": {},
   "outputs": [
    {
     "name": "stdout",
     "output_type": "stream",
     "text": [
      "Classification Report:\n",
      "\n",
      "               precision    recall  f1-score   support\n",
      "\n",
      "           0       0.99      1.00      0.99    100980\n",
      "           1       0.86      0.69      0.76      3366\n",
      "\n",
      "    accuracy                           0.99    104346\n",
      "   macro avg       0.92      0.84      0.88    104346\n",
      "weighted avg       0.99      0.99      0.99    104346\n",
      "\n"
     ]
    }
   ],
   "source": [
    "# import the metric\n",
    "from sklearn.metrics import classification_report\n",
    "\n",
    "\n",
    "# print classification report\n",
    "print(\"Classification Report:\\n\\n\", classification_report(Y_test, Y_test_pred))"
   ]
  },
  {
   "cell_type": "code",
   "execution_count": 47,
   "metadata": {},
   "outputs": [
    {
     "name": "stdout",
     "output_type": "stream",
     "text": [
      "Classification Report:\n",
      "\n",
      "               precision    recall  f1-score   support\n",
      "\n",
      "           0       0.99      1.00      0.99    100981\n",
      "           1       0.85      0.69      0.76      3365\n",
      "\n",
      "    accuracy                           0.99    104346\n",
      "   macro avg       0.92      0.84      0.88    104346\n",
      "weighted avg       0.99      0.99      0.99    104346\n",
      "\n"
     ]
    }
   ],
   "source": [
    "# import the metric\n",
    "from sklearn.metrics import classification_report\n",
    "\n",
    "\n",
    "# print classification report\n",
    "print(\"Classification Report:\\n\\n\", classification_report(Y_test1, Y_test_pred1))"
   ]
  },
  {
   "cell_type": "markdown",
   "metadata": {},
   "source": [
    "### Precision\n",
    "Precision can be defined as the percentage of correctly predicted positive outcomes out of all the predicted positive outcomes. It can be given as the ratio of true positives (TP) to the sum of true and false positives (TP + FP).\n",
    "\n",
    "Mathematically, precision can be defined as the ratio of TP to (TP + FP).\n",
    "\n",
    "So, precision is more concerned with the positive class than the negative class.\n",
    "\n",
    "### Recall\n",
    "Recall can be defined as the percentage of correctly predicted positive outcomes out of all the actual positive outcomes. It can be given as the ratio of true positives (TP) to the sum of true positives and false negatives (TP + FN). Recall is also called Sensitivity.\n",
    "\n",
    "Mathematically, recall can be given as the ratio of TP to (TP + FN).\n",
    "\n",
    "### f1-score\n",
    "f1-score is the weighted harmonic mean of precision and recall. The best possible f1-score would be 1.0 and the worst would be 0.0. f1-score is the harmonic mean of precision and recall. So, f1-score is always lower than accuracy measures as they embed precision and recall into their computation. The weighted average of f1-score should be used to compare classifier models, not global accuracy.\n",
    "\n",
    "### Support\n",
    "Support is the actual number of occurrences of the class in our dataset. It classifies 100981 conversion as genuine and 3365 conversion as misscalculate."
   ]
  },
  {
   "cell_type": "markdown",
   "metadata": {},
   "source": [
    "## Precision - Recall Curve"
   ]
  },
  {
   "cell_type": "markdown",
   "metadata": {},
   "source": [
    "**Difference between ROC AUC and PR AUC**\n",
    "\n",
    "Precision-Recall does not account for True Negatives (TN) unlike ROC AUC (TN is not a component of either Precision or Recall).\n",
    "In the cases of class imbalance problem, we have many more negatives than positives. The Precision-Recall curve much better illustrates the difference between algorithms in the class imbalance problem cases where there are lot more negative examples than the positive examples. In these cases of class imbalances, we should use Precision-Recall Curve (PR AUC), otherwise we should use ROC AUC.\n",
    "So, we can conclude that we should use PR AUC for cases where the class imbalance problem occurs. Otherwise, we should use ROC AUC."
   ]
  },
  {
   "cell_type": "code",
   "execution_count": 38,
   "metadata": {},
   "outputs": [
    {
     "name": "stdout",
     "output_type": "stream",
     "text": [
      "Average precision-recall score : 0.60\n"
     ]
    }
   ],
   "source": [
    "# compute and print average precision score\n",
    "\n",
    "from sklearn.metrics import average_precision_score\n",
    "\n",
    "average_precision = average_precision_score(Y_test, Y_test_pred)\n",
    "\n",
    "print('Average precision-recall score : {0:0.2f}'.format(average_precision))"
   ]
  },
  {
   "cell_type": "markdown",
   "metadata": {},
   "source": [
    "Precision-Recall Curve gives us the correct accuracy in this imbalanced dataset case. We can see that we have a very poor accuracy for the model."
   ]
  },
  {
   "cell_type": "code",
   "execution_count": 39,
   "metadata": {},
   "outputs": [
    {
     "data": {
      "text/plain": [
       "<matplotlib.legend.Legend at 0x2846fb77688>"
      ]
     },
     "execution_count": 39,
     "metadata": {},
     "output_type": "execute_result"
    },
    {
     "data": {
      "image/png": "[encoded data removed]",
      "text/plain": [
       "<Figure size 432x288 with 1 Axes>"
      ]
     },
     "metadata": {
      "needs_background": "light"
     },
     "output_type": "display_data"
    }
   ],
   "source": [
    "from sklearn.metrics import precision_recall_curve \n",
    "\n",
    "precision, recall, thresholds = precision_recall_curve(Y_test, Y_test_pred)\n",
    "\n",
    "# create plot\n",
    "plt.plot(precision, recall, label='Precision-recall curve')\n",
    "plt.xlabel('Precision')\n",
    "plt.ylabel('Recall')\n",
    "plt.title('Precision-recall curve')\n",
    "plt.legend(loc=\"lower left\")"
   ]
  },
  {
   "cell_type": "markdown",
   "metadata": {},
   "source": [
    "#  Random over-sampling the minority class <a class=\"anchor\" id=\"4\"></a>\n",
    "[return to contents](#0)"
   ]
  },
  {
   "cell_type": "markdown",
   "metadata": {},
   "source": [
    "Over-sampling is the process of randomly duplicating observations from the minority class in order to achieve a balanced dataset. So, it replicates the observations from minority class to balance the data. It is also known as upsampling. It may result in overfitting due to duplication of data points.\n",
    "\n",
    "The most common way of over-sampling is to resample with replacement. I will proceed as follows:-\n",
    "\n",
    "First, I will import the resampling module from Scikit-Learn."
   ]
  },
  {
   "cell_type": "code",
   "execution_count": 40,
   "metadata": {},
   "outputs": [],
   "source": [
    "# import resample module \n",
    "\n",
    "from sklearn.utils import resample"
   ]
  },
  {
   "cell_type": "code",
   "execution_count": 41,
   "metadata": {},
   "outputs": [],
   "source": [
    "# separate the minority and majority classes\n",
    "CRC_majority = CRC1[CRC1['converted']==0]\n",
    "CRC_minority = CRC1[CRC1['converted']==1]"
   ]
  },
  {
   "cell_type": "code",
   "execution_count": 42,
   "metadata": {},
   "outputs": [],
   "source": [
    "# oversample minority class\n",
    "CRC_minority_oversampled = resample(CRC_minority, replace=True, n_samples=306000, random_state=0)"
   ]
  },
  {
   "cell_type": "code",
   "execution_count": 43,
   "metadata": {},
   "outputs": [],
   "source": [
    "# combine majority class with oversampled minority class\n",
    "\n",
    "CRC_oversampled = pd.concat([CRC_majority, CRC_minority_oversampled])"
   ]
  },
  {
   "cell_type": "code",
   "execution_count": 44,
   "metadata": {},
   "outputs": [
    {
     "data": {
      "text/plain": [
       "1    306000\n",
       "0    306000\n",
       "Name: converted, dtype: int64"
      ]
     },
     "execution_count": 44,
     "metadata": {},
     "output_type": "execute_result"
    }
   ],
   "source": [
    "# display new class value counts\n",
    "\n",
    "CRC_oversampled['converted'].value_counts()"
   ]
  },
  {
   "cell_type": "code",
   "execution_count": 45,
   "metadata": {},
   "outputs": [
    {
     "data": {
      "text/plain": [
       "<matplotlib.axes._subplots.AxesSubplot at 0x2846fc33888>"
      ]
     },
     "execution_count": 45,
     "metadata": {},
     "output_type": "execute_result"
    },
    {
     "data": {
      "image/png": "[encoded data removed]",
      "text/plain": [
       "<Figure size 432x288 with 1 Axes>"
      ]
     },
     "metadata": {
      "needs_background": "light"
     },
     "output_type": "display_data"
    }
   ],
   "source": [
    "# view the distribution of percentages within the Class column\n",
    "(CRC_oversampled['converted'].value_counts()/np.float(len(CRC_oversampled))).plot.bar()"
   ]
  },
  {
   "cell_type": "code",
   "execution_count": 46,
   "metadata": {},
   "outputs": [
    {
     "name": "stdout",
     "output_type": "stream",
     "text": [
      "Found numeric features  ['age', 'new_user', 'total_pages_visited']  at positions  [1, 2, 4]\n",
      "Found categorical features  ['country', 'source']  at positions  [0, 3]\n",
      "Accuracy on training set :  0.9401570578480148\n",
      "Accuracy on test set :  0.9398148148148148\n",
      "Classification Report:\n",
      "\n",
      "               precision    recall  f1-score   support\n",
      "\n",
      "           0       0.95      0.93      0.94    100980\n",
      "           1       0.93      0.95      0.94    100980\n",
      "\n",
      "    accuracy                           0.94    201960\n",
      "   macro avg       0.94      0.94      0.94    201960\n",
      "weighted avg       0.94      0.94      0.94    201960\n",
      "\n"
     ]
    }
   ],
   "source": [
    "# declare feature vector and target variable\n",
    "features_list2 = ['country', 'age', 'new_user', 'source', 'total_pages_visited']\n",
    "target_variable2 = \"converted\"\n",
    "\n",
    "X2 = CRC_oversampled.loc[:,features_list2]\n",
    "Y2 = CRC_oversampled.loc[:,target_variable2]\n",
    "\n",
    "idx = 0\n",
    "numeric_features2 = []\n",
    "numeric_indices2 = []\n",
    "categorical_features2 = []\n",
    "categorical_indices2 = []\n",
    "for i,t in X2.dtypes.iteritems():\n",
    "  if ('float' in str(t)) or ('int' in str(t)) :\n",
    "    numeric_features2.append(i)\n",
    "    numeric_indices2.append(idx)\n",
    "  else :\n",
    "    categorical_features2.append(i)\n",
    "    categorical_indices2.append(idx)\n",
    "\n",
    "  idx = idx + 1\n",
    "\n",
    "print('Found numeric features ', numeric_features2,' at positions ', numeric_indices2)\n",
    "print('Found categorical features ', categorical_features2,' at positions ', categorical_indices2)\n",
    "\n",
    "X_train2, X_test2, Y_train2, Y_test2 = train_test_split(X2, Y2, test_size=0.33, \n",
    "                                                    random_state=0, stratify=Y2)\n",
    "\n",
    "X_train2 = X_train2.values\n",
    "X_test2 = X_test2.values\n",
    "Y_train2 = Y_train2.tolist()\n",
    "Y_test2 = Y_test2.tolist()\n",
    "\n",
    "# Normalization\n",
    "numeric_transformer2 = StandardScaler()\n",
    "\n",
    "# OHE / dummyfication\n",
    "categorical_transformer2 = OneHotEncoder(drop='first')\n",
    "\n",
    "featureencoder2 = ColumnTransformer(\n",
    "    transformers=[\n",
    "        ('cat', categorical_transformer2, categorical_indices2),    \n",
    "        ('num', numeric_transformer2, numeric_indices2)\n",
    "        ]\n",
    "    )\n",
    "\n",
    "X_train2 = featureencoder2.fit_transform(X_train2)\n",
    "\n",
    "X_test2 = featureencoder2.transform(X_test2)\n",
    "\n",
    "# instantiate the Logistic Regression classifier\n",
    "logreg2 = LogisticRegression()\n",
    "\n",
    "# fit the classifier to the imbalanced data\n",
    "clf2 = logreg2.fit(X_train2, Y_train2)\n",
    "\n",
    "\n",
    "Y_train_pred2 = clf2.predict(X_train2)\n",
    "Y_test_pred2 = clf2.predict(X_test2)\n",
    "\n",
    "print(\"Accuracy on training set : \", accuracy_score(Y_train2, Y_train_pred2))\n",
    "print(\"Accuracy on test set : \", accuracy_score(Y_test2, Y_test_pred2))\n",
    "\n",
    "# print classification report\n",
    "print(\"Classification Report:\\n\\n\", classification_report(Y_test2, Y_test_pred2))"
   ]
  },
  {
   "cell_type": "code",
   "execution_count": 47,
   "metadata": {},
   "outputs": [
    {
     "data": {
      "text/plain": [
       "<matplotlib.axes._subplots.AxesSubplot at 0x2846fca4148>"
      ]
     },
     "execution_count": 47,
     "metadata": {},
     "output_type": "execute_result"
    },
    {
     "data": {
      "image/png": "[encoded data removed]",
      "text/plain": [
       "<Figure size 432x288 with 2 Axes>"
      ]
     },
     "metadata": {
      "needs_background": "light"
     },
     "output_type": "display_data"
    }
   ],
   "source": [
    "from sklearn.metrics import confusion_matrix\n",
    "cm = confusion_matrix(Y_test2, Y_test_pred2)\n",
    "sns.heatmap(cm, annot=True, fmt=\"d\")"
   ]
  },
  {
   "cell_type": "code",
   "execution_count": 48,
   "metadata": {},
   "outputs": [
    {
     "name": "stdout",
     "output_type": "stream",
     "text": [
      "f1-score on train set :  0.9406086775519291\n",
      "f1-score on test set :  0.9402529480291583\n"
     ]
    }
   ],
   "source": [
    "print(\"f1-score on train set : \", f1_score(Y_train2, Y_train_pred2))\n",
    "print(\"f1-score on test set : \", f1_score(Y_test2, Y_test_pred2))"
   ]
  },
  {
   "cell_type": "markdown",
   "metadata": {},
   "source": [
    " <span style=\"color:red\">**Beware the dataset has been modified!!!!** <br/></span>\n",
    "We can test on a dataset that hasn't been modified."
   ]
  },
  {
   "cell_type": "code",
   "execution_count": 49,
   "metadata": {},
   "outputs": [
    {
     "name": "stdout",
     "output_type": "stream",
     "text": [
      "Accuracy on test set :  0.6089164893718974\n",
      "f1-score on test set :  0.14120964687065954\n"
     ]
    }
   ],
   "source": [
    "Y_test_pred21 = clf2.predict(X_test1)\n",
    "print(\"Accuracy on test set : \", accuracy_score(Y_test1, Y_test_pred21))\n",
    "print(\"f1-score on test set : \", f1_score(Y_test1, Y_test_pred21))"
   ]
  },
  {
   "cell_type": "markdown",
   "metadata": {},
   "source": [
    "**Advantages**\n",
    "\n",
    "An advantage of this method is that it leads to no information loss.\n",
    "\n",
    "This method outperform under sampling.\n",
    "\n",
    "**Disadvantages**\n",
    "\n",
    "This method increases the likelihood of overfitting as it replicates the minority class labels."
   ]
  },
  {
   "cell_type": "markdown",
   "metadata": {},
   "source": [
    "# Random under-sampling the majority class <a class=\"anchor\" id=\"5\"></a>"
   ]
  },
  {
   "cell_type": "markdown",
   "metadata": {},
   "source": [
    "The under-sampling methods work with the majority class. In these methods, we randomly eliminate instances of the majority class. It reduces the number of observations from majority class to make the dataset balanced. This method is applicable when the dataset is huge and reducing the number of training samples make the dataset balanced.\n",
    "\n",
    "The most common technique for under-sampling is resampling without replacement.\n",
    "\n",
    "I will proceed exactly as in the case of random over-sampling."
   ]
  },
  {
   "cell_type": "code",
   "execution_count": 52,
   "metadata": {},
   "outputs": [],
   "source": [
    "# separate the minority and majority classes\n",
    "CRC_majority = CRC1[CRC1['converted']==0]\n",
    "CRC_minority = CRC1[CRC1['converted']==1]"
   ]
  },
  {
   "cell_type": "code",
   "execution_count": 53,
   "metadata": {},
   "outputs": [],
   "source": [
    "# undersample majority class\n",
    "CRC_majority_undersampled = resample(CRC_majority, replace=True, n_samples=10200, random_state=0)"
   ]
  },
  {
   "cell_type": "code",
   "execution_count": 54,
   "metadata": {},
   "outputs": [
    {
     "data": {
      "text/plain": [
       "0    10200\n",
       "1    10198\n",
       "Name: converted, dtype: int64"
      ]
     },
     "execution_count": 54,
     "metadata": {},
     "output_type": "execute_result"
    }
   ],
   "source": [
    "# combine majority class with oversampled minority class\n",
    "CRC_undersampled = pd.concat([CRC_minority, CRC_majority_undersampled])\n",
    "\n",
    "# display new class value counts\n",
    "CRC_undersampled['converted'].value_counts()"
   ]
  },
  {
   "cell_type": "markdown",
   "metadata": {},
   "source": [
    "## Logistic regression  <a class=\"anchor\" id=\"3a\"></a>"
   ]
  },
  {
   "cell_type": "code",
   "execution_count": 55,
   "metadata": {},
   "outputs": [
    {
     "name": "stdout",
     "output_type": "stream",
     "text": [
      "Found numeric features  ['age', 'new_user', 'total_pages_visited']  at positions  [1, 2, 4]\n",
      "Found categorical features  ['country', 'source']  at positions  [0, 3]\n",
      "Accuracy on training set :  0.9408019903409922\n",
      "Accuracy on test set :  0.9389483065953654\n",
      "Classification Report:\n",
      "\n",
      "               precision    recall  f1-score   support\n",
      "\n",
      "           0       0.95      0.93      0.94      3366\n",
      "           1       0.93      0.95      0.94      3366\n",
      "\n",
      "    accuracy                           0.94      6732\n",
      "   macro avg       0.94      0.94      0.94      6732\n",
      "weighted avg       0.94      0.94      0.94      6732\n",
      "\n"
     ]
    }
   ],
   "source": [
    "# declare feature vector and target variable\n",
    "features_list3 = ['country', 'age','new_user', 'source',  'total_pages_visited']\n",
    "target_variable3 = \"converted\"\n",
    "\n",
    "X3 = CRC_undersampled.loc[:,features_list3]\n",
    "Y3 = CRC_undersampled.loc[:,target_variable3]\n",
    "\n",
    "idx = 0\n",
    "numeric_features3 = []\n",
    "numeric_indices3 = []\n",
    "categorical_features3 = []\n",
    "categorical_indices3 = []\n",
    "for i,t in X3.dtypes.iteritems():\n",
    "  if ('float' in str(t)) or ('int' in str(t)) :\n",
    "    numeric_features3.append(i)\n",
    "    numeric_indices3.append(idx)\n",
    "  else :\n",
    "    categorical_features3.append(i)\n",
    "    categorical_indices3.append(idx)\n",
    "\n",
    "  idx = idx + 1\n",
    "\n",
    "print('Found numeric features ', numeric_features3,' at positions ', numeric_indices3)\n",
    "print('Found categorical features ', categorical_features3,' at positions ', categorical_indices3)\n",
    "\n",
    "X_train3, X_test3, Y_train3, Y_test3 = train_test_split(X3, Y3, test_size=0.33, \n",
    "                                                    random_state=0, stratify=Y3)\n",
    "\n",
    "X_train3 = X_train3.values\n",
    "X_test3 = X_test3.values\n",
    "Y_train3 = Y_train3.tolist()\n",
    "Y_test3 = Y_test3.tolist()\n",
    "\n",
    "# Normalization\n",
    "numeric_transformer3 = StandardScaler()\n",
    "\n",
    "# OHE / dummyfication\n",
    "categorical_transformer3 = OneHotEncoder(drop='first')\n",
    "\n",
    "featureencoder3 = ColumnTransformer(\n",
    "    transformers=[\n",
    "        ('cat', categorical_transformer3, categorical_indices3),    \n",
    "        ('num', numeric_transformer3, numeric_indices3)\n",
    "        ]\n",
    "    )\n",
    "\n",
    "X_train3 = featureencoder3.fit_transform(X_train3)\n",
    "\n",
    "X_test3 = featureencoder3.transform(X_test3)\n",
    "\n",
    "# instantiate the Logistic Regression classifier\n",
    "logreg3 = LogisticRegression()\n",
    "\n",
    "# fit the classifier to the imbalanced data\n",
    "clf3 = logreg3.fit(X_train3, Y_train3)\n",
    "\n",
    "\n",
    "Y_train_pred3 = clf3.predict(X_train3)\n",
    "Y_test_pred3 = clf3.predict(X_test3)\n",
    "\n",
    "print(\"Accuracy on training set : \", accuracy_score(Y_train3, Y_train_pred3))\n",
    "print(\"Accuracy on test set : \", accuracy_score(Y_test3, Y_test_pred3))\n",
    "\n",
    "# print classification report\n",
    "print(\"Classification Report:\\n\\n\", classification_report(Y_test3, Y_test_pred3))"
   ]
  },
  {
   "cell_type": "code",
   "execution_count": 56,
   "metadata": {},
   "outputs": [
    {
     "data": {
      "text/plain": [
       "<matplotlib.axes._subplots.AxesSubplot at 0x2846fcc29c8>"
      ]
     },
     "execution_count": 56,
     "metadata": {},
     "output_type": "execute_result"
    },
    {
     "data": {
      "image/png": "[encoded data removed]",
      "text/plain": [
       "<Figure size 432x288 with 2 Axes>"
      ]
     },
     "metadata": {
      "needs_background": "light"
     },
     "output_type": "display_data"
    }
   ],
   "source": [
    "from sklearn.metrics import confusion_matrix\n",
    "cm = confusion_matrix(Y_test3, Y_test_pred3)\n",
    "sns.heatmap(cm, annot=True, fmt=\"d\")"
   ]
  },
  {
   "cell_type": "code",
   "execution_count": 57,
   "metadata": {},
   "outputs": [
    {
     "name": "stdout",
     "output_type": "stream",
     "text": [
      "f1-score on train set :  0.9411336680491886\n",
      "f1-score on test set :  0.9394252026529109\n"
     ]
    }
   ],
   "source": [
    "print(\"f1-score on train set : \", f1_score(Y_train3, Y_train_pred3))\n",
    "print(\"f1-score on test set : \", f1_score(Y_test3, Y_test_pred3))"
   ]
  },
  {
   "cell_type": "markdown",
   "metadata": {},
   "source": [
    " <span style=\"color:red\">**Beware the dataset has been modified!!!!** <br/></span>\n",
    "We can test on a dataset that hasn't been modified."
   ]
  },
  {
   "cell_type": "code",
   "execution_count": 58,
   "metadata": {},
   "outputs": [
    {
     "name": "stdout",
     "output_type": "stream",
     "text": [
      "Accuracy on test set :  0.604738082916451\n",
      "f1-score on test set :  0.1399257621887642\n"
     ]
    }
   ],
   "source": [
    "Y_test_pred31 = clf3.predict(X_test1)\n",
    "print(\"Accuracy on test set : \", accuracy_score(Y_test1, Y_test_pred31))\n",
    "print(\"f1-score on test set : \", f1_score(Y_test1, Y_test_pred31))"
   ]
  },
  {
   "cell_type": "markdown",
   "metadata": {},
   "source": [
    "**Advantages**\n",
    "\n",
    "If the dataset is huge, we might face run time and storage problems. Undersampling can help to handle these problems successfully by improving run time and storage problems by reducing the number of training data samples.\n",
    "\n",
    "**Disadvantages**\n",
    "\n",
    "This method can discard potentially useful information which could be important for building the classifiers.\n",
    "\n",
    "The sample chosen by random under sampling may be a biased one. It may not be an accurate representation of the population. So, it results in inaccurate results with the actual dataset."
   ]
  },
  {
   "cell_type": "markdown",
   "metadata": {},
   "source": [
    "## Ridge and/or Lasso Classifier or \"None\" <a class=\"anchor\" id=\"3b\"></a>"
   ]
  },
  {
   "cell_type": "code",
   "execution_count": 56,
   "metadata": {},
   "outputs": [
    {
     "name": "stdout",
     "output_type": "stream",
     "text": [
      "tuned hpyerparameters :(best parameters)  {'C': 1.0, 'max_iter': 2500, 'penalty': 'l1', 'solver': 'saga'}\n",
      "accuracy : 0.9410212940844056\n",
      "Accuracy on training set :  0.9408751646421777\n",
      "Accuracy on test set :  0.9393939393939394\n",
      "Classification Report:\n",
      "\n",
      "               precision    recall  f1-score   support\n",
      "\n",
      "           0       0.95      0.93      0.94      3366\n",
      "           1       0.93      0.95      0.94      3366\n",
      "\n",
      "    accuracy                           0.94      6732\n",
      "   macro avg       0.94      0.94      0.94      6732\n",
      "weighted avg       0.94      0.94      0.94      6732\n",
      "\n"
     ]
    }
   ],
   "source": [
    "import warnings\n",
    "warnings.filterwarnings(\"ignore\")\n",
    "\n",
    "from sklearn.model_selection import GridSearchCV\n",
    "\n",
    "C1=np.logspace(0, 4, 10)\n",
    "penalty = ['l1', 'l2', 'elasticnet', 'none']\n",
    "solver = ['lbfgs','newton-cg','liblinear','sag','saga']\n",
    "max_iter = [100, 1000,2500, 5000]\n",
    "param_grid = dict(C=C1, penalty=penalty,solver=solver, max_iter = max_iter)\n",
    "\n",
    "logreg=LogisticRegression()\n",
    "logreg_cv=GridSearchCV(logreg,param_grid,cv=20)\n",
    "clf31=logreg_cv.fit(X_train3, Y_train3)\n",
    "\n",
    "print(\"tuned hpyerparameters :(best parameters) \",logreg_cv.best_params_)\n",
    "print(\"accuracy :\",logreg_cv.best_score_)\n",
    "\n",
    "\n",
    "Y_train_pred31 = clf31.predict(X_train3)\n",
    "Y_test_pred31 = clf31.predict(X_test3)\n",
    "\n",
    "print(\"Accuracy on training set : \", accuracy_score(Y_train3, Y_train_pred31))\n",
    "print(\"Accuracy on test set : \", accuracy_score(Y_test3, Y_test_pred31))\n",
    "\n",
    "# print classification report\n",
    "print(\"Classification Report:\\n\\n\", classification_report(Y_test3, Y_test_pred31))\n"
   ]
  },
  {
   "cell_type": "code",
   "execution_count": 57,
   "metadata": {},
   "outputs": [
    {
     "data": {
      "text/plain": [
       "<matplotlib.axes._subplots.AxesSubplot at 0x294b31f2a88>"
      ]
     },
     "execution_count": 57,
     "metadata": {},
     "output_type": "execute_result"
    },
    {
     "data": {
      "image/png": "[encoded data removed]",
      "text/plain": [
       "<Figure size 432x288 with 2 Axes>"
      ]
     },
     "metadata": {
      "needs_background": "light"
     },
     "output_type": "display_data"
    }
   ],
   "source": [
    "from sklearn.metrics import confusion_matrix\n",
    "cm = confusion_matrix(Y_test3, Y_test_pred31)\n",
    "sns.heatmap(cm, annot=True, fmt=\"d\")"
   ]
  },
  {
   "cell_type": "code",
   "execution_count": 58,
   "metadata": {},
   "outputs": [
    {
     "name": "stdout",
     "output_type": "stream",
     "text": [
      "f1-score on train set :  0.9411850342116757\n",
      "f1-score on test set :  0.9398584905660378\n"
     ]
    }
   ],
   "source": [
    "print(\"f1-score on train set : \", f1_score(Y_train3, Y_train_pred31))\n",
    "print(\"f1-score on test set : \", f1_score(Y_test3, Y_test_pred31))"
   ]
  },
  {
   "cell_type": "markdown",
   "metadata": {},
   "source": [
    " <span style=\"color:red\">**Beware the dataset has been modified!!!!** <br/></span>\n",
    "We can test on a dataset that hasn't been modified. We can't validate this method\n"
   ]
  },
  {
   "cell_type": "markdown",
   "metadata": {},
   "source": [
    "# Apply Tree-Based Algorithms <a class=\"anchor\" id=\"6\"></a>\n",
    "[return to contents](#0)"
   ]
  },
  {
   "cell_type": "markdown",
   "metadata": {},
   "source": [
    "## Random Forest classifier <a class=\"anchor\" id=\"2a\"></a>"
   ]
  },
  {
   "cell_type": "code",
   "execution_count": 59,
   "metadata": {},
   "outputs": [
    {
     "name": "stdout",
     "output_type": "stream",
     "text": [
      "Found numeric features  ['age', 'new_user', 'total_pages_visited']  at positions  [1, 2, 4]\n",
      "Found categorical features  ['country', 'source']  at positions  [0, 3]\n"
     ]
    }
   ],
   "source": [
    "# declare input features (X) and target variable (y)\n",
    "features_list4 = ['country', 'age', 'new_user', 'source', 'total_pages_visited']\n",
    "target_variable4 = \"converted\"\n",
    "\n",
    "X4 = CRC.loc[:,features_list4]\n",
    "Y4 = CRC.loc[:,target_variable4]\n",
    "\n",
    "idx = 0\n",
    "numeric_features4 = []\n",
    "numeric_indices4 = []\n",
    "categorical_features4 = []\n",
    "categorical_indices4 = []\n",
    "for i,t in X4.dtypes.iteritems():\n",
    "  if ('float' in str(t)) or ('int' in str(t)) :\n",
    "    numeric_features4.append(i)\n",
    "    numeric_indices4.append(idx)\n",
    "  else :\n",
    "    categorical_features4.append(i)\n",
    "    categorical_indices4.append(idx)\n",
    "\n",
    "  idx = idx + 1\n",
    "\n",
    "print('Found numeric features ', numeric_features4,' at positions ', numeric_indices4)\n",
    "print('Found categorical features ', categorical_features4,' at positions ', categorical_indices4)\n",
    "\n",
    "X_train4, X_test4, Y_train4, Y_test4 = train_test_split(X4, Y4, test_size=0.33, \n",
    "                                                    random_state=0, stratify=Y4)\n",
    "\n",
    "X_train4 = X_train4.values\n",
    "X_test4 = X_test4.values\n",
    "Y_train4 = Y_train4.tolist()\n",
    "Y_test4 = Y_test4.tolist()\n",
    "\n",
    "# Normalization\n",
    "numeric_transformer4 = StandardScaler()\n",
    "\n",
    "# OHE / dummyfication\n",
    "categorical_transformer4 = OneHotEncoder(drop='first')\n",
    "\n",
    "featureencoder4 = ColumnTransformer(\n",
    "    transformers=[\n",
    "        ('cat', categorical_transformer4, categorical_indices4),    \n",
    "        ('num', numeric_transformer4, numeric_indices4)\n",
    "        ]\n",
    "    )\n",
    "\n",
    "X_train4 = featureencoder3.fit_transform(X_train4)\n",
    "\n",
    "X_test4 = featureencoder3.transform(X_test4)"
   ]
  },
  {
   "cell_type": "code",
   "execution_count": 60,
   "metadata": {},
   "outputs": [],
   "source": [
    "# import Random Forest classifier\n",
    "from sklearn.ensemble import RandomForestClassifier"
   ]
  },
  {
   "cell_type": "code",
   "execution_count": 61,
   "metadata": {},
   "outputs": [
    {
     "name": "stdout",
     "output_type": "stream",
     "text": [
      "Accuracy on training set :  0.9884967949625686\n",
      "Accuracy on test set :  0.98448431180879\n",
      "Classification Report:\n",
      "\n",
      "               precision    recall  f1-score   support\n",
      "\n",
      "           0       0.99      1.00      0.99    100980\n",
      "           1       0.82      0.67      0.73      3366\n",
      "\n",
      "    accuracy                           0.98    104346\n",
      "   macro avg       0.90      0.83      0.86    104346\n",
      "weighted avg       0.98      0.98      0.98    104346\n",
      "\n"
     ]
    }
   ],
   "source": [
    "# instantiate the Random Forest classifier\n",
    "RandomF4 = RandomForestClassifier(criterion=\"gini\")\n",
    "\n",
    "# fit the classifier to the imbalanced data\n",
    "clf4 = RandomF4.fit(X_train4, Y_train4)\n",
    "\n",
    "\n",
    "Y_train_pred4 = clf4.predict(X_train4)\n",
    "Y_test_pred4 = clf4.predict(X_test4)\n",
    "\n",
    "print(\"Accuracy on training set : \", accuracy_score(Y_train4, Y_train_pred4))\n",
    "print(\"Accuracy on test set : \", accuracy_score(Y_test4, Y_test_pred4))\n",
    "\n",
    "# print classification report\n",
    "print(\"Classification Report:\\n\\n\", classification_report(Y_test4, Y_test_pred4))"
   ]
  },
  {
   "cell_type": "code",
   "execution_count": 62,
   "metadata": {},
   "outputs": [
    {
     "name": "stdout",
     "output_type": "stream",
     "text": [
      "f1-score on train set :  0.804209849762995\n",
      "f1-score on test set :  0.7349811753151088\n"
     ]
    }
   ],
   "source": [
    "print(\"f1-score on train set : \", f1_score(Y_train4, Y_train_pred4))\n",
    "print(\"f1-score on test set : \", f1_score(Y_test4, Y_test_pred4))"
   ]
  },
  {
   "cell_type": "code",
   "execution_count": 63,
   "metadata": {},
   "outputs": [
    {
     "name": "stdout",
     "output_type": "stream",
     "text": [
      "Accuracy on training set :  0.9884967949625686\n",
      "Accuracy on test set :  0.9843501427941656\n",
      "Classification Report:\n",
      "\n",
      "               precision    recall  f1-score   support\n",
      "\n",
      "           0       0.99      0.99      0.99    100980\n",
      "           1       0.81      0.67      0.73      3366\n",
      "\n",
      "    accuracy                           0.98    104346\n",
      "   macro avg       0.90      0.83      0.86    104346\n",
      "weighted avg       0.98      0.98      0.98    104346\n",
      "\n",
      "f1-score on train set :  0.80442982104165\n",
      "f1-score on test set :  0.7330390714402486\n"
     ]
    }
   ],
   "source": [
    "# instantiate the Random Forest classifier\n",
    "RandomF4_1 = RandomForestClassifier(criterion=\"entropy\")\n",
    "\n",
    "# fit the classifier to the imbalanced data\n",
    "clf4_1 = RandomF4_1.fit(X_train4, Y_train4)\n",
    "\n",
    "\n",
    "Y_train_pred4_1 = clf4_1.predict(X_train4)\n",
    "Y_test_pred4_1 = clf4_1.predict(X_test4)\n",
    "\n",
    "print(\"Accuracy on training set : \", accuracy_score(Y_train4, Y_train_pred4_1))\n",
    "print(\"Accuracy on test set : \", accuracy_score(Y_test4, Y_test_pred4_1))\n",
    "\n",
    "# print classification report\n",
    "print(\"Classification Report:\\n\\n\", classification_report(Y_test4, Y_test_pred4_1))\n",
    "\n",
    "from sklearn.metrics import f1_score\n",
    "print(\"f1-score on train set : \", f1_score(Y_train4, Y_train_pred4_1))\n",
    "print(\"f1-score on test set : \", f1_score(Y_test4, Y_test_pred4_1))"
   ]
  },
  {
   "cell_type": "code",
   "execution_count": 64,
   "metadata": {},
   "outputs": [
    {
     "name": "stdout",
     "output_type": "stream",
     "text": [
      "f1-score on train set :  0.80442982104165\n",
      "f1-score on test set :  0.7330390714402486\n"
     ]
    }
   ],
   "source": [
    "print(\"f1-score on train set : \", f1_score(Y_train4, Y_train_pred4_1))\n",
    "print(\"f1-score on test set : \", f1_score(Y_test4, Y_test_pred4_1))"
   ]
  },
  {
   "cell_type": "markdown",
   "metadata": {},
   "source": [
    "## Comparaison method between gini and entropy <a class=\"anchor\" id=\"2b\"></a>"
   ]
  },
  {
   "cell_type": "code",
   "execution_count": 65,
   "metadata": {},
   "outputs": [
    {
     "name": "stdout",
     "output_type": "stream",
     "text": [
      "On the test set, there are 136  differently classified items\n",
      "Either 0.1%  difference\n"
     ]
    }
   ],
   "source": [
    "count = 0\n",
    "for i in range(0, len(Y_test_pred4)):\n",
    "  \n",
    "  if Y_test_pred4[i] != Y_test_pred4_1[i]:\n",
    "    count+= 1\n",
    "    \n",
    "\n",
    "print(\"On the test set, there are {}  differently classified items\".format(count))\n",
    "print(\"Either {}%  difference\".format(np.round(count/len(Y_test_pred4), 3)*100))"
   ]
  },
  {
   "cell_type": "code",
   "execution_count": 66,
   "metadata": {},
   "outputs": [
    {
     "data": {
      "text/plain": [
       "<matplotlib.axes._subplots.AxesSubplot at 0x294b1cc0308>"
      ]
     },
     "execution_count": 66,
     "metadata": {},
     "output_type": "execute_result"
    },
    {
     "data": {
      "image/png": "[encoded data removed]",
      "text/plain": [
       "<Figure size 432x288 with 2 Axes>"
      ]
     },
     "metadata": {
      "needs_background": "light"
     },
     "output_type": "display_data"
    }
   ],
   "source": [
    "from sklearn.metrics import confusion_matrix\n",
    "cm = confusion_matrix(Y_test4, Y_test_pred4)\n",
    "sns.heatmap(cm, annot=True, fmt=\"d\")"
   ]
  },
  {
   "cell_type": "code",
   "execution_count": 67,
   "metadata": {},
   "outputs": [
    {
     "data": {
      "text/plain": [
       "<matplotlib.axes._subplots.AxesSubplot at 0x294b31e4988>"
      ]
     },
     "execution_count": 67,
     "metadata": {},
     "output_type": "execute_result"
    },
    {
     "data": {
      "image/png": "[encoded data removed]",
      "text/plain": [
       "<Figure size 432x288 with 2 Axes>"
      ]
     },
     "metadata": {
      "needs_background": "light"
     },
     "output_type": "display_data"
    }
   ],
   "source": [
    "from sklearn.metrics import confusion_matrix\n",
    "cm = confusion_matrix(Y_test4, Y_test_pred4_1)\n",
    "sns.heatmap(cm, annot=True, fmt=\"d\")"
   ]
  },
  {
   "cell_type": "markdown",
   "metadata": {},
   "source": [
    "## GridsearchCV <a class=\"anchor\" id=\"2c\"></a>\n"
   ]
  },
  {
   "cell_type": "code",
   "execution_count": 68,
   "metadata": {},
   "outputs": [],
   "source": [
    "#param = {\"n_estimators\": np.arange(10,50),\n",
    "#        \"max_depth\": np.arange(1,10),\n",
    "#        \"min_samples_split\":np.arange(2,10)}"
   ]
  },
  {
   "cell_type": "code",
   "execution_count": 69,
   "metadata": {},
   "outputs": [],
   "source": [
    "#from sklearn.model_selection import GridSearchCV\n",
    "#rf = RandomForestClassifier()\n",
    "#grid = GridSearchCV( estimator = rf, param_grid=param)\n",
    "#grid.fit(X_train4,Y_train4)"
   ]
  },
  {
   "cell_type": "code",
   "execution_count": 70,
   "metadata": {},
   "outputs": [],
   "source": [
    "#grid.best_params_\n",
    "#{'max_depth': 8, 'min_samples_split': 9, 'n_estimators': 48}"
   ]
  },
  {
   "cell_type": "code",
   "execution_count": 71,
   "metadata": {},
   "outputs": [],
   "source": [
    "#grid.best_estimator_.score(X_train4, Y_train4)\n",
    "#0.9863774108584213"
   ]
  },
  {
   "cell_type": "code",
   "execution_count": 72,
   "metadata": {},
   "outputs": [],
   "source": [
    "#grid.best_estimator_.score(X_test4, Y_test4)\n",
    "#0.9859601709696586"
   ]
  },
  {
   "cell_type": "code",
   "execution_count": 73,
   "metadata": {},
   "outputs": [
    {
     "name": "stdout",
     "output_type": "stream",
     "text": [
      "Accuracy on training set :  0.986297166916839\n",
      "Accuracy on test set :  0.9859697544707032\n",
      "Classification Report:\n",
      "\n",
      "               precision    recall  f1-score   support\n",
      "\n",
      "           0       0.99      1.00      0.99    100980\n",
      "           1       0.86      0.68      0.76      3366\n",
      "\n",
      "    accuracy                           0.99    104346\n",
      "   macro avg       0.92      0.84      0.87    104346\n",
      "weighted avg       0.99      0.99      0.99    104346\n",
      "\n"
     ]
    }
   ],
   "source": [
    "# instantiate the Random Forest classifier\n",
    "RandomF4_2 = RandomForestClassifier(n_estimators= 8,max_depth= 9,min_samples_split=48)\n",
    "\n",
    "# fit the classifier to the imbalanced data\n",
    "clf4_2 = RandomF4_2.fit(X_train4, Y_train4)\n",
    "\n",
    "\n",
    "Y_train_pred4_2 = clf4_2.predict(X_train4)\n",
    "Y_test_pred4_2 = clf4_2.predict(X_test4)\n",
    "\n",
    "print(\"Accuracy on training set : \", accuracy_score(Y_train4, Y_train_pred4_2))\n",
    "print(\"Accuracy on test set : \", accuracy_score(Y_test4, Y_test_pred4_2))\n",
    "\n",
    "# print classification report\n",
    "print(\"Classification Report:\\n\\n\", classification_report(Y_test4, Y_test_pred4_2))"
   ]
  },
  {
   "cell_type": "code",
   "execution_count": 74,
   "metadata": {},
   "outputs": [
    {
     "data": {
      "text/plain": [
       "<matplotlib.axes._subplots.AxesSubplot at 0x294aed0ee88>"
      ]
     },
     "execution_count": 74,
     "metadata": {},
     "output_type": "execute_result"
    },
    {
     "data": {
      "image/png": "[encoded data removed]",
      "text/plain": [
       "<Figure size 432x288 with 2 Axes>"
      ]
     },
     "metadata": {
      "needs_background": "light"
     },
     "output_type": "display_data"
    }
   ],
   "source": [
    "from sklearn.metrics import confusion_matrix\n",
    "cm = confusion_matrix(Y_test4, Y_test_pred4_2)\n",
    "sns.heatmap(cm, annot=True, fmt=\"d\")"
   ]
  },
  {
   "cell_type": "code",
   "execution_count": 75,
   "metadata": {},
   "outputs": [
    {
     "name": "stdout",
     "output_type": "stream",
     "text": [
      "f1-score on train set :  0.7636185978340526\n",
      "f1-score on test set :  0.7571333775713336\n"
     ]
    }
   ],
   "source": [
    "print(\"f1-score on train set : \", f1_score(Y_train4, Y_train_pred4_2))\n",
    "print(\"f1-score on test set : \", f1_score(Y_test4, Y_test_pred4_2))"
   ]
  },
  {
   "cell_type": "markdown",
   "metadata": {},
   "source": [
    "## Under-sampling the majority class with random forest <a class=\"anchor\" id=\"2d\"></a>"
   ]
  },
  {
   "cell_type": "code",
   "execution_count": 76,
   "metadata": {},
   "outputs": [],
   "source": [
    "#param = {\"n_estimators\": np.arange(10,50),\n",
    "#        \"max_depth\": np.arange(1,10),\n",
    "#        \"min_samples_split\":np.arange(2,10)}"
   ]
  },
  {
   "cell_type": "code",
   "execution_count": 77,
   "metadata": {},
   "outputs": [],
   "source": [
    "#from sklearn.model_selection import GridSearchCV\n",
    "#rf = RandomForestClassifier()\n",
    "#grid = GridSearchCV( estimator = rf, param_grid=param)\n",
    "#grid.fit(X_train3,Y_train3)"
   ]
  },
  {
   "cell_type": "code",
   "execution_count": 78,
   "metadata": {},
   "outputs": [],
   "source": [
    "#grid.best_params_\n",
    "#{'max_depth': 8, 'min_samples_split': 3, 'n_estimators': 23}"
   ]
  },
  {
   "cell_type": "code",
   "execution_count": 79,
   "metadata": {},
   "outputs": [],
   "source": [
    "#grid.best_estimator_.score(X_train3, Y_train3)\n",
    "#0.9145324162154251"
   ]
  },
  {
   "cell_type": "code",
   "execution_count": 80,
   "metadata": {},
   "outputs": [],
   "source": [
    "#grid.best_estimator_.score(X_test3, Y_test3)\n",
    "#0.9197860962566845"
   ]
  },
  {
   "cell_type": "code",
   "execution_count": 81,
   "metadata": {},
   "outputs": [
    {
     "name": "stdout",
     "output_type": "stream",
     "text": [
      "Accuracy on training set :  0.945777842821601\n",
      "Accuracy on test set :  0.9358288770053476\n",
      "Classification Report:\n",
      "\n",
      "               precision    recall  f1-score   support\n",
      "\n",
      "           0       0.93      0.94      0.94      3366\n",
      "           1       0.94      0.93      0.94      3366\n",
      "\n",
      "    accuracy                           0.94      6732\n",
      "   macro avg       0.94      0.94      0.94      6732\n",
      "weighted avg       0.94      0.94      0.94      6732\n",
      "\n"
     ]
    }
   ],
   "source": [
    "# instantiate the Random Forest classifier\n",
    "RandomF3_1 = RandomForestClassifier(n_estimators= 23,max_depth= 8,min_samples_split=3)\n",
    "\n",
    "# fit the classifier to the imbalanced data\n",
    "clf3_1 = RandomF3_1.fit(X_train3, Y_train3)\n",
    "\n",
    "\n",
    "Y_train_pred3_1 = clf3_1.predict(X_train3)\n",
    "Y_test_pred3_1 = clf3_1.predict(X_test3)\n",
    "\n",
    "print(\"Accuracy on training set : \", accuracy_score(Y_train3, Y_train_pred3_1))\n",
    "print(\"Accuracy on test set : \", accuracy_score(Y_test3, Y_test_pred3_1))\n",
    "\n",
    "# print classification report\n",
    "print(\"Classification Report:\\n\\n\", classification_report(Y_test3, Y_test_pred3_1))"
   ]
  },
  {
   "cell_type": "code",
   "execution_count": 82,
   "metadata": {},
   "outputs": [
    {
     "data": {
      "text/plain": [
       "<matplotlib.axes._subplots.AxesSubplot at 0x294b1deb848>"
      ]
     },
     "execution_count": 82,
     "metadata": {},
     "output_type": "execute_result"
    },
    {
     "data": {
      "image/png": "[encoded data removed]",
      "text/plain": [
       "<Figure size 432x288 with 2 Axes>"
      ]
     },
     "metadata": {
      "needs_background": "light"
     },
     "output_type": "display_data"
    }
   ],
   "source": [
    "from sklearn.metrics import confusion_matrix\n",
    "cm = confusion_matrix(Y_test3, Y_test_pred3_1)\n",
    "sns.heatmap(cm, annot=True, fmt=\"d\")"
   ]
  },
  {
   "cell_type": "code",
   "execution_count": 83,
   "metadata": {},
   "outputs": [
    {
     "name": "stdout",
     "output_type": "stream",
     "text": [
      "f1-score on train set :  0.9455427353568016\n",
      "f1-score on test set :  0.9355800775424992\n"
     ]
    }
   ],
   "source": [
    "print(\"f1-score on train set : \", f1_score(Y_train3, Y_train_pred3_1))\n",
    "print(\"f1-score on test set : \", f1_score(Y_test3, Y_test_pred3_1))"
   ]
  },
  {
   "cell_type": "markdown",
   "metadata": {},
   "source": [
    "# SMOTETomek <a class=\"anchor\" id=\"7\"></a>\n",
    "[return to contents](#0)"
   ]
  },
  {
   "attachments": {
    "image.PNG": {
     "image/png": "[encoded data removed]"
    }
   },
   "cell_type": "markdown",
   "metadata": {},
   "source": [
    "Resampling technique named SMOTETomek, which combines undersampling and oversampling. SMOTETomek is a good way to avoid the disadvantages of the SMOTE and the Tomek Link technique. The SMOTETomek technique is applied using the library from imbalanced_learn, and included an SMOTE function for oversampling as well as a Tomek Link function for undersampling. The algorithm flow of the SMOTETomek method is to combine SMOTE and Tomek Link to form a pipeline. The standard flow is as follows:\n",
    "\n",
    "Step 1: For a dataset D with an unbalanced data distribution, it uses the SMOTE method to obtain an extended dataset D’ by generating many new minority samples.\n",
    "\n",
    "Step2: Tomek Link pairs in dataset D’ are removed using the Tomek Link method.\n",
    "\n",
    "\n",
    "![image.PNG](attachment:image.PNG)"
   ]
  },
  {
   "cell_type": "code",
   "execution_count": 39,
   "metadata": {},
   "outputs": [],
   "source": [
    "from sklearn.datasets import make_classification\n",
    "from sklearn.decomposition import PCA"
   ]
  },
  {
   "cell_type": "code",
   "execution_count": 41,
   "metadata": {},
   "outputs": [],
   "source": [
    "from imblearn.combine import SMOTETomek"
   ]
  },
  {
   "cell_type": "code",
   "execution_count": 42,
   "metadata": {},
   "outputs": [
    {
     "name": "stdout",
     "output_type": "stream",
     "text": [
      "Original dataset shape Counter({0: 205019, 1: 6833})\n"
     ]
    }
   ],
   "source": [
    "print('Original dataset shape {}'.format(Counter(Y_train1)))"
   ]
  },
  {
   "cell_type": "code",
   "execution_count": 63,
   "metadata": {
    "scrolled": true
   },
   "outputs": [
    {
     "name": "stdout",
     "output_type": "stream",
     "text": [
      "Resampled dataset shape Counter({0: 204964, 1: 6778})\n"
     ]
    }
   ],
   "source": [
    "# Instanciate a PCA object for the sake of easy visualisation\n",
    "pca = PCA(n_components=8)\n",
    "\n",
    "# Fit and transform x to visualise inside a 2D feature space\n",
    "X_vis = pca.fit_transform(X_train1)\n",
    "\n",
    "\n",
    "# Apply the random under-sampling\n",
    "tl = SMOTETomek(sampling_strategy='not minority')\n",
    "X_resampled, Y_resampled = tl.fit_sample(X_train1, Y_train1)\n",
    "X_res_vis = pca.transform(X_resampled)\n",
    "\n",
    "print('Resampled dataset shape %s' % Counter(Y_resampled))\n"
   ]
  },
  {
   "cell_type": "code",
   "execution_count": 64,
   "metadata": {},
   "outputs": [
    {
     "data": {
      "text/plain": [
       "Index(['country', 'age', 'new_user', 'source', 'total_pages_visited'], dtype='object')"
      ]
     },
     "execution_count": 64,
     "metadata": {},
     "output_type": "execute_result"
    }
   ],
   "source": [
    "X.columns"
   ]
  },
  {
   "cell_type": "code",
   "execution_count": 65,
   "metadata": {},
   "outputs": [
    {
     "name": "stdout",
     "output_type": "stream",
     "text": [
      "Accuracy on training set :  0.9862238006630711\n",
      "Accuracy on test set :  0.9862093419968183\n",
      "Classification Report:\n",
      "\n",
      "               precision    recall  f1-score   support\n",
      "\n",
      "           0       0.99      1.00      0.99    100981\n",
      "           1       0.85      0.69      0.76      3365\n",
      "\n",
      "    accuracy                           0.99    104346\n",
      "   macro avg       0.92      0.84      0.88    104346\n",
      "weighted avg       0.99      0.99      0.99    104346\n",
      "\n"
     ]
    }
   ],
   "source": [
    "regressor = LogisticRegression()\n",
    "reg = regressor.fit(X_resampled, Y_resampled)\n",
    "\n",
    "Y_train_pred11 = reg.predict(X_resampled)\n",
    "Y_test_pred11 = reg.predict(X_test1)\n",
    "\n",
    "print(\"Accuracy on training set : \", accuracy_score(Y_resampled, Y_train_pred11))\n",
    "print(\"Accuracy on test set : \", accuracy_score(Y_test1, Y_test_pred11))\n",
    "\n",
    "# print classification report\n",
    "print(\"Classification Report:\\n\\n\", classification_report(Y_test1, Y_test_pred11))"
   ]
  },
  {
   "cell_type": "code",
   "execution_count": 66,
   "metadata": {},
   "outputs": [
    {
     "data": {
      "text/plain": [
       "<matplotlib.axes._subplots.AxesSubplot at 0x24da92e8b08>"
      ]
     },
     "execution_count": 66,
     "metadata": {},
     "output_type": "execute_result"
    },
    {
     "data": {
      "image/png": "[encoded data removed]",
      "text/plain": [
       "<Figure size 432x288 with 2 Axes>"
      ]
     },
     "metadata": {
      "needs_background": "light"
     },
     "output_type": "display_data"
    }
   ],
   "source": [
    "from sklearn.metrics import confusion_matrix\n",
    "cm = confusion_matrix(Y_test1, Y_test_pred11)\n",
    "sns.heatmap(cm, annot=True, fmt=\"d\")"
   ]
  },
  {
   "cell_type": "markdown",
   "metadata": {},
   "source": [
    "The disadvantage of the oversampling technique is that there are too many repeated samples, which may lead to overfitting of the classifier."
   ]
  },
  {
   "cell_type": "code",
   "execution_count": 70,
   "metadata": {},
   "outputs": [
    {
     "name": "stdout",
     "output_type": "stream",
     "text": [
      "f1-score on train set :  0.7629804176484927\n",
      "f1-score on test set :  0.7636721957628511\n"
     ]
    }
   ],
   "source": [
    "print(\"f1-score on train set : \", f1_score(Y_resampled, Y_train_pred11))\n",
    "print(\"f1-score on test set : \", f1_score(Y_test1, Y_test_pred11))"
   ]
  },
  {
   "cell_type": "markdown",
   "metadata": {},
   "source": [
    "# Last logistic regression with class_weight <a class=\"anchor\" id=\"8\"></a>\n",
    "[return to contents](#0)"
   ]
  },
  {
   "cell_type": "code",
   "execution_count": 64,
   "metadata": {},
   "outputs": [
    {
     "name": "stdout",
     "output_type": "stream",
     "text": [
      "Accuracy on training set :  0.9855276324981591\n",
      "Accuracy on test set :  0.9858355854560789\n",
      "Classification Report:\n",
      "\n",
      "               precision    recall  f1-score   support\n",
      "\n",
      "           0       0.99      0.99      0.99    100981\n",
      "           1       0.81      0.73      0.77      3365\n",
      "\n",
      "    accuracy                           0.99    104346\n",
      "   macro avg       0.90      0.86      0.88    104346\n",
      "weighted avg       0.99      0.99      0.99    104346\n",
      "\n"
     ]
    }
   ],
   "source": [
    "classifier = LogisticRegressionCV(class_weight={0:0.50,1:0.8}) # regularized logit with regularization strength\n",
    "joseph =classifier.fit(X_train1, Y_train1)\n",
    "\n",
    "Y_train_predlast = joseph.predict(X_train1)\n",
    "Y_test_predlast = joseph.predict(X_test1)\n",
    "\n",
    "print(\"Accuracy on training set : \", accuracy_score(Y_train1, Y_train_predlast))\n",
    "print(\"Accuracy on test set : \", accuracy_score(Y_test1, Y_test_predlast))\n",
    "\n",
    "# print classification report\n",
    "print(\"Classification Report:\\n\\n\", classification_report(Y_test1, Y_test_predlast))"
   ]
  },
  {
   "cell_type": "code",
   "execution_count": 65,
   "metadata": {},
   "outputs": [
    {
     "name": "stdout",
     "output_type": "stream",
     "text": [
      "f1-score on train set :  0.7646968534151957\n",
      "f1-score on test set :  0.7687010954616589\n"
     ]
    }
   ],
   "source": [
    "print(\"f1-score on train set : \", f1_score(Y_train1, Y_train_predlast))\n",
    "print(\"f1-score on test set : \", f1_score(Y_test1, Y_test_predlast))"
   ]
  },
  {
   "cell_type": "code",
   "execution_count": 66,
   "metadata": {},
   "outputs": [
    {
     "data": {
      "text/plain": [
       "<matplotlib.axes._subplots.AxesSubplot at 0x2840040cb48>"
      ]
     },
     "execution_count": 66,
     "metadata": {},
     "output_type": "execute_result"
    },
    {
     "data": {
      "image/png": "[encoded data removed]",
      "text/plain": [
       "<Figure size 432x288 with 2 Axes>"
      ]
     },
     "metadata": {
      "needs_background": "light"
     },
     "output_type": "display_data"
    }
   ],
   "source": [
    "from sklearn.metrics import confusion_matrix\n",
    "cm = confusion_matrix(Y_test1, Y_test_predlast)\n",
    "sns.heatmap(cm, annot=True, fmt=\"d\")"
   ]
  },
  {
   "cell_type": "markdown",
   "metadata": {},
   "source": [
    "**The best solution is not necessarily to look for complexity.**"
   ]
  }
 ],
 "metadata": {
  "kernelspec": {
   "display_name": "Python 3",
   "language": "python",
   "name": "python3"
  },
  "language_info": {
   "codemirror_mode": {
    "name": "ipython",
    "version": 3
   },
   "file_extension": ".py",
   "mimetype": "text/x-python",
   "name": "python",
   "nbconvert_exporter": "python",
   "pygments_lexer": "ipython3",
   "version": "3.7.4"
  }
 },
 "nbformat": 4,
 "nbformat_minor": 2
}
