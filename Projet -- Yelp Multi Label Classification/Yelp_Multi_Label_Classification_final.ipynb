{
 "cells": [
  {
   "attachments": {
    "Yelp.png": {
     "image/png": "[encoded data removed]"
    }
   },
   "cell_type": "markdown",
   "metadata": {
    "colab_type": "text",
    "id": "89Ef2nWP3_O5"
   },
   "source": [
    "# Yelp Multi-Label Classification \n",
    "\n",
    "![Yelp.png](attachment:Yelp.png)\n",
    "\n",
    "In this project, we're going to go up in difficulty and try to enter the [Yelp Kaggle competition](https://www.kaggle.com/c/yelp-restaurant-photo-classification/overview). Yelp would indeed like to see \"the atmosphere of a restaurant\" from a picture. We can predict the following labels on the image: \n",
    "\n",
    "* Good for lunch\n",
    "* Good for dinner \n",
    "* Take reservations \n",
    "* Terrace available\n",
    "* Restaurant is expensive or not\n",
    "* Serves alcohol \n",
    "* Serves at Table \n",
    "* The atmosphere is classy \n",
    "* Good for the kids. \n",
    "\n",
    "Instead of making a classification of only one label (i.e. cat/dog), this time we will have to put several labels on the same picture. So let's see how we can solve this challenge with TensorFlow. \n",
    "\n",
    "\n",
    "## Table of Contents <a class=\"anchor\" id=\"0\"></a>\n",
    "\n",
    "I.   [Import Data](#1)<br/>\n",
    "\n",
    "II.  [Data Pre-processing for Yelp Restaurant Photo Classification](#2)<br/>\n",
    "\n",
    "III.  [Model Architecture](#3)<br/>\n"
   ]
  },
  {
   "cell_type": "markdown",
   "metadata": {
    "colab_type": "text",
    "id": "0mGxftFLo5qa"
   },
   "source": [
    "# Import Data"
   ]
  },
  {
   "cell_type": "markdown",
   "metadata": {
    "colab_type": "text",
    "id": "g0WEJCht5LaV"
   },
   "source": [
    "* Start by installing : \n",
    "  * --upgrade tensorflow \n",
    "  * kaggle "
   ]
  },
  {
   "cell_type": "code",
   "execution_count": 1,
   "metadata": {
    "colab": {
     "base_uri": "https://localhost:8080/",
     "height": 854
    },
    "colab_type": "code",
    "id": "eYQ9yLxIJz99",
    "outputId": "aab24537-2f73-4e6f-eb9b-58e9ce8f3994"
   },
   "outputs": [
    {
     "name": "stdout",
     "output_type": "stream",
     "text": [
      "Requirement already up-to-date: tensorflow in /usr/local/lib/python3.6/dist-packages (2.2.0rc3)\n",
      "Requirement already satisfied, skipping upgrade: tensorboard<2.3.0,>=2.2.0 in /usr/local/lib/python3.6/dist-packages (from tensorflow) (2.2.0)\n",
      "Requirement already satisfied, skipping upgrade: scipy==1.4.1; python_version >= \"3\" in /usr/local/lib/python3.6/dist-packages (from tensorflow) (1.4.1)\n",
      "Requirement already satisfied, skipping upgrade: wrapt>=1.11.1 in /usr/local/lib/python3.6/dist-packages (from tensorflow) (1.12.1)\n",
      "Requirement already satisfied, skipping upgrade: protobuf>=3.8.0 in /usr/local/lib/python3.6/dist-packages (from tensorflow) (3.10.0)\n",
      "Requirement already satisfied, skipping upgrade: numpy<2.0,>=1.16.0 in /usr/local/lib/python3.6/dist-packages (from tensorflow) (1.18.2)\n",
      "Requirement already satisfied, skipping upgrade: opt-einsum>=2.3.2 in /usr/local/lib/python3.6/dist-packages (from tensorflow) (3.2.0)\n",
      "Requirement already satisfied, skipping upgrade: astunparse==1.6.3 in /usr/local/lib/python3.6/dist-packages (from tensorflow) (1.6.3)\n",
      "Requirement already satisfied, skipping upgrade: wheel>=0.26; python_version >= \"3\" in /usr/local/lib/python3.6/dist-packages (from tensorflow) (0.34.2)\n",
      "Requirement already satisfied, skipping upgrade: grpcio>=1.8.6 in /usr/local/lib/python3.6/dist-packages (from tensorflow) (1.28.1)\n",
      "Requirement already satisfied, skipping upgrade: google-pasta>=0.1.8 in /usr/local/lib/python3.6/dist-packages (from tensorflow) (0.2.0)\n",
      "Requirement already satisfied, skipping upgrade: tensorflow-estimator<2.3.0,>=2.2.0rc0 in /usr/local/lib/python3.6/dist-packages (from tensorflow) (2.2.0rc0)\n",
      "Requirement already satisfied, skipping upgrade: gast==0.3.3 in /usr/local/lib/python3.6/dist-packages (from tensorflow) (0.3.3)\n",
      "Requirement already satisfied, skipping upgrade: termcolor>=1.1.0 in /usr/local/lib/python3.6/dist-packages (from tensorflow) (1.1.0)\n",
      "Requirement already satisfied, skipping upgrade: absl-py>=0.7.0 in /usr/local/lib/python3.6/dist-packages (from tensorflow) (0.9.0)\n",
      "Requirement already satisfied, skipping upgrade: h5py<2.11.0,>=2.10.0 in /usr/local/lib/python3.6/dist-packages (from tensorflow) (2.10.0)\n",
      "Requirement already satisfied, skipping upgrade: six>=1.12.0 in /usr/local/lib/python3.6/dist-packages (from tensorflow) (1.12.0)\n",
      "Requirement already satisfied, skipping upgrade: keras-preprocessing>=1.1.0 in /usr/local/lib/python3.6/dist-packages (from tensorflow) (1.1.0)\n",
      "Requirement already satisfied, skipping upgrade: requests<3,>=2.21.0 in /usr/local/lib/python3.6/dist-packages (from tensorboard<2.3.0,>=2.2.0->tensorflow) (2.21.0)\n",
      "Requirement already satisfied, skipping upgrade: werkzeug>=0.11.15 in /usr/local/lib/python3.6/dist-packages (from tensorboard<2.3.0,>=2.2.0->tensorflow) (1.0.1)\n",
      "Requirement already satisfied, skipping upgrade: markdown>=2.6.8 in /usr/local/lib/python3.6/dist-packages (from tensorboard<2.3.0,>=2.2.0->tensorflow) (3.2.1)\n",
      "Requirement already satisfied, skipping upgrade: google-auth-oauthlib<0.5,>=0.4.1 in /usr/local/lib/python3.6/dist-packages (from tensorboard<2.3.0,>=2.2.0->tensorflow) (0.4.1)\n",
      "Requirement already satisfied, skipping upgrade: setuptools>=41.0.0 in /usr/local/lib/python3.6/dist-packages (from tensorboard<2.3.0,>=2.2.0->tensorflow) (46.1.3)\n",
      "Requirement already satisfied, skipping upgrade: tensorboard-plugin-wit>=1.6.0 in /usr/local/lib/python3.6/dist-packages (from tensorboard<2.3.0,>=2.2.0->tensorflow) (1.6.0.post3)\n",
      "Requirement already satisfied, skipping upgrade: google-auth<2,>=1.6.3 in /usr/local/lib/python3.6/dist-packages (from tensorboard<2.3.0,>=2.2.0->tensorflow) (1.7.2)\n",
      "Requirement already satisfied, skipping upgrade: certifi>=2017.4.17 in /usr/local/lib/python3.6/dist-packages (from requests<3,>=2.21.0->tensorboard<2.3.0,>=2.2.0->tensorflow) (2020.4.5.1)\n",
      "Requirement already satisfied, skipping upgrade: chardet<3.1.0,>=3.0.2 in /usr/local/lib/python3.6/dist-packages (from requests<3,>=2.21.0->tensorboard<2.3.0,>=2.2.0->tensorflow) (3.0.4)\n",
      "Requirement already satisfied, skipping upgrade: urllib3<1.25,>=1.21.1 in /usr/local/lib/python3.6/dist-packages (from requests<3,>=2.21.0->tensorboard<2.3.0,>=2.2.0->tensorflow) (1.24.3)\n",
      "Requirement already satisfied, skipping upgrade: idna<2.9,>=2.5 in /usr/local/lib/python3.6/dist-packages (from requests<3,>=2.21.0->tensorboard<2.3.0,>=2.2.0->tensorflow) (2.8)\n",
      "Requirement already satisfied, skipping upgrade: requests-oauthlib>=0.7.0 in /usr/local/lib/python3.6/dist-packages (from google-auth-oauthlib<0.5,>=0.4.1->tensorboard<2.3.0,>=2.2.0->tensorflow) (1.3.0)\n",
      "Requirement already satisfied, skipping upgrade: rsa<4.1,>=3.1.4 in /usr/local/lib/python3.6/dist-packages (from google-auth<2,>=1.6.3->tensorboard<2.3.0,>=2.2.0->tensorflow) (4.0)\n",
      "Requirement already satisfied, skipping upgrade: pyasn1-modules>=0.2.1 in /usr/local/lib/python3.6/dist-packages (from google-auth<2,>=1.6.3->tensorboard<2.3.0,>=2.2.0->tensorflow) (0.2.8)\n",
      "Requirement already satisfied, skipping upgrade: cachetools<3.2,>=2.0.0 in /usr/local/lib/python3.6/dist-packages (from google-auth<2,>=1.6.3->tensorboard<2.3.0,>=2.2.0->tensorflow) (3.1.1)\n",
      "Requirement already satisfied, skipping upgrade: oauthlib>=3.0.0 in /usr/local/lib/python3.6/dist-packages (from requests-oauthlib>=0.7.0->google-auth-oauthlib<0.5,>=0.4.1->tensorboard<2.3.0,>=2.2.0->tensorflow) (3.1.0)\n",
      "Requirement already satisfied, skipping upgrade: pyasn1>=0.1.3 in /usr/local/lib/python3.6/dist-packages (from rsa<4.1,>=3.1.4->google-auth<2,>=1.6.3->tensorboard<2.3.0,>=2.2.0->tensorflow) (0.4.8)\n",
      "Requirement already satisfied: kaggle in /usr/local/lib/python3.6/dist-packages (1.5.6)\n",
      "Requirement already satisfied: certifi in /usr/local/lib/python3.6/dist-packages (from kaggle) (2020.4.5.1)\n",
      "Requirement already satisfied: six>=1.10 in /usr/local/lib/python3.6/dist-packages (from kaggle) (1.12.0)\n",
      "Requirement already satisfied: python-slugify in /usr/local/lib/python3.6/dist-packages (from kaggle) (4.0.0)\n",
      "Requirement already satisfied: requests in /usr/local/lib/python3.6/dist-packages (from kaggle) (2.21.0)\n",
      "Requirement already satisfied: urllib3<1.25,>=1.21.1 in /usr/local/lib/python3.6/dist-packages (from kaggle) (1.24.3)\n",
      "Requirement already satisfied: python-dateutil in /usr/local/lib/python3.6/dist-packages (from kaggle) (2.8.1)\n",
      "Requirement already satisfied: tqdm in /usr/local/lib/python3.6/dist-packages (from kaggle) (4.38.0)\n",
      "Requirement already satisfied: text-unidecode>=1.3 in /usr/local/lib/python3.6/dist-packages (from python-slugify->kaggle) (1.3)\n",
      "Requirement already satisfied: chardet<3.1.0,>=3.0.2 in /usr/local/lib/python3.6/dist-packages (from requests->kaggle) (3.0.4)\n",
      "Requirement already satisfied: idna<2.9,>=2.5 in /usr/local/lib/python3.6/dist-packages (from requests->kaggle) (2.8)\n"
     ]
    }
   ],
   "source": [
    "!pip install --upgrade tensorflow\n",
    "!pip install kaggle"
   ]
  },
  {
   "cell_type": "markdown",
   "metadata": {
    "colab_type": "text",
    "id": "GgzRHSDNOKov"
   },
   "source": [
    "* For the rest, we'll use the Kaggle API to download data (too large to do otherwise)\n",
    "  * Go to the Kaggle API and see how to download your `kaggle.json` file: [Kaggle API](https://github.com/Kaggle/kaggle-api)\n",
    "  * Next, you need to put your `kaggle.json` in the `/root` folder of your Google Colab (or your local machine). \n",
    "  * So try to do this using your terminal commands.\n",
    "  * Here are some reminders \n",
    "\n",
    "\n",
    "\n",
    "  <img src=\"https://i.redd.it/rl0fe7r6zku11.jpg\" alt=\"linux cmd\" height=700>"
   ]
  },
  {
   "cell_type": "markdown",
   "metadata": {},
   "source": [
    "We're going to use google colab for this notebook."
   ]
  },
  {
   "cell_type": "code",
   "execution_count": 2,
   "metadata": {
    "colab": {
     "base_uri": "https://localhost:8080/",
     "height": 34
    },
    "colab_type": "code",
    "id": "Daf0115aMPwM",
    "outputId": "1961d341-49f0-4231-8189-52c3d49a0b64"
   },
   "outputs": [
    {
     "name": "stdout",
     "output_type": "stream",
     "text": [
      "/root\n"
     ]
    }
   ],
   "source": [
    "cd /root"
   ]
  },
  {
   "cell_type": "code",
   "execution_count": 3,
   "metadata": {
    "colab": {
     "base_uri": "https://localhost:8080/",
     "height": 265
    },
    "colab_type": "code",
    "id": "iWOrB9FIMQru",
    "outputId": "220fd3f4-ed91-4483-fb4d-154e966b1954"
   },
   "outputs": [
    {
     "name": "stdout",
     "output_type": "stream",
     "text": [
      "total 64\n",
      "drwx------ 1 root root 4096 Apr 18 17:47 \u001b[0m\u001b[01;34m.\u001b[0m/\n",
      "drwxr-xr-x 1 root root 4096 Apr 18 17:47 \u001b[01;34m..\u001b[0m/\n",
      "-rw-r--r-- 1 root root 3106 Apr  9  2018 .bashrc\n",
      "drwxr-xr-x 1 root root 4096 Apr 18 17:57 \u001b[01;34m.cache\u001b[0m/\n",
      "drwxr-xr-x 1 root root 4096 Apr 16 16:10 \u001b[01;34m.config\u001b[0m/\n",
      "drwxr-xr-x 3 root root 4096 Apr 15 16:11 \u001b[01;34m.gsutil\u001b[0m/\n",
      "drwxr-xr-x 1 root root 4096 Apr 16 16:10 \u001b[01;34m.ipython\u001b[0m/\n",
      "drwx------ 2 root root 4096 Apr 16 16:10 \u001b[01;34m.jupyter\u001b[0m/\n",
      "drwxr-xr-x 2 root root 4096 Apr 18 17:47 \u001b[01;34m.keras\u001b[0m/\n",
      "drwx------ 1 root root 4096 Apr 16 16:10 \u001b[01;34m.local\u001b[0m/\n",
      "drwxr-xr-x 3 root root 4096 Apr 16 16:10 \u001b[01;34m.node-gyp\u001b[0m/\n",
      "drwxr-xr-x 4 root root 4096 Apr 16 16:10 \u001b[01;34m.npm\u001b[0m/\n",
      "-rw-r--r-- 1 root root  148 Aug 17  2015 .profile\n"
     ]
    }
   ],
   "source": [
    "ls -al"
   ]
  },
  {
   "cell_type": "markdown",
   "metadata": {},
   "source": [
    "We're gonna reinstall kaggle because I don't see kaggle file."
   ]
  },
  {
   "cell_type": "code",
   "execution_count": 4,
   "metadata": {
    "colab": {
     "base_uri": "https://localhost:8080/",
     "height": 692
    },
    "colab_type": "code",
    "id": "pmeMl5R1oYJ2",
    "outputId": "33ea5d92-01e5-4b70-ca73-508d2b67842b"
   },
   "outputs": [
    {
     "name": "stdout",
     "output_type": "stream",
     "text": [
      "Uninstalling kaggle-1.5.6:\n",
      "  Successfully uninstalled kaggle-1.5.6\n",
      "Collecting pip\n",
      "\u001b[?25l  Downloading https://files.pythonhosted.org/packages/54/0c/d01aa759fdc501a58f431eb594a17495f15b88da142ce14b5845662c13f3/pip-20.0.2-py2.py3-none-any.whl (1.4MB)\n",
      "\u001b[K     |████████████████████████████████| 1.4MB 3.5MB/s \n",
      "\u001b[?25hInstalling collected packages: pip\n",
      "  Found existing installation: pip 19.3.1\n",
      "    Uninstalling pip-19.3.1:\n",
      "      Successfully uninstalled pip-19.3.1\n",
      "Successfully installed pip-20.0.2\n",
      "Collecting kaggle==1.5.6\n",
      "  Downloading kaggle-1.5.6.tar.gz (58 kB)\n",
      "\u001b[K     |████████████████████████████████| 58 kB 2.2 MB/s \n",
      "\u001b[?25hRequirement already satisfied: urllib3<1.25,>=1.21.1 in /usr/local/lib/python3.6/dist-packages (from kaggle==1.5.6) (1.24.3)\n",
      "Requirement already satisfied: six>=1.10 in /usr/local/lib/python3.6/dist-packages (from kaggle==1.5.6) (1.12.0)\n",
      "Requirement already satisfied: certifi in /usr/local/lib/python3.6/dist-packages (from kaggle==1.5.6) (2020.4.5.1)\n",
      "Requirement already satisfied: python-dateutil in /usr/local/lib/python3.6/dist-packages (from kaggle==1.5.6) (2.8.1)\n",
      "Requirement already satisfied: requests in /usr/local/lib/python3.6/dist-packages (from kaggle==1.5.6) (2.21.0)\n",
      "Requirement already satisfied: tqdm in /usr/local/lib/python3.6/dist-packages (from kaggle==1.5.6) (4.38.0)\n",
      "Requirement already satisfied: python-slugify in /usr/local/lib/python3.6/dist-packages (from kaggle==1.5.6) (4.0.0)\n",
      "Requirement already satisfied: idna<2.9,>=2.5 in /usr/local/lib/python3.6/dist-packages (from requests->kaggle==1.5.6) (2.8)\n",
      "Requirement already satisfied: chardet<3.1.0,>=3.0.2 in /usr/local/lib/python3.6/dist-packages (from requests->kaggle==1.5.6) (3.0.4)\n",
      "Requirement already satisfied: text-unidecode>=1.3 in /usr/local/lib/python3.6/dist-packages (from python-slugify->kaggle==1.5.6) (1.3)\n",
      "Building wheels for collected packages: kaggle\n",
      "  Building wheel for kaggle (setup.py) ... \u001b[?25l\u001b[?25hdone\n",
      "  Created wheel for kaggle: filename=kaggle-1.5.6-py3-none-any.whl size=72859 sha256=2c28d26cc763ced2ad73b9fc9f7583d5ec1777a8c0d7fdd60dbde70d98e35655\n",
      "  Stored in directory: /root/.cache/pip/wheels/01/3e/ff/77407ebac3ef71a79b9166a8382aecf88415a0bcbe3c095a01\n",
      "Successfully built kaggle\n",
      "Installing collected packages: kaggle\n",
      "Successfully installed kaggle-1.5.6\n",
      "Traceback (most recent call last):\n",
      "  File \"/usr/local/bin/kaggle\", line 5, in <module>\n",
      "    from kaggle.cli import main\n",
      "  File \"/usr/local/lib/python3.6/dist-packages/kaggle/__init__.py\", line 23, in <module>\n",
      "    api.authenticate()\n",
      "  File \"/usr/local/lib/python3.6/dist-packages/kaggle/api/kaggle_api_extended.py\", line 149, in authenticate\n",
      "    self.config_file, self.config_dir))\n",
      "OSError: Could not find kaggle.json. Make sure it's located in /root/.kaggle. Or use the environment method.\n"
     ]
    }
   ],
   "source": [
    "!pip uninstall -y kaggle\n",
    "!pip install --upgrade pip\n",
    "!pip install kaggle==1.5.6\n",
    "!kaggle -v\n"
   ]
  },
  {
   "cell_type": "markdown",
   "metadata": {},
   "source": [
    "We use the kaggle API. We just download the kaggle.json file to access the API and move it to the Kaggle folder."
   ]
  },
  {
   "cell_type": "code",
   "execution_count": 0,
   "metadata": {
    "colab": {},
    "colab_type": "code",
    "id": "XjfQd2LvYv_o"
   },
   "outputs": [],
   "source": [
    "mv /kaggle.json /root/.kaggle/kaggle.json"
   ]
  },
  {
   "cell_type": "code",
   "execution_count": 0,
   "metadata": {
    "colab": {
     "base_uri": "https://localhost:8080/",
     "height": 34
    },
    "colab_type": "code",
    "id": "Lg9Q133IdSZq",
    "outputId": "d49a8590-4f1e-45df-fca9-88e992552e86"
   },
   "outputs": [
    {
     "name": "stdout",
     "output_type": "stream",
     "text": [
      "rm: cannot remove '/root/.kaggle/kaggle.json': No such file or directory\n"
     ]
    }
   ],
   "source": [
    "#rm /root/.kaggle/kaggle.json"
   ]
  },
  {
   "cell_type": "markdown",
   "metadata": {
    "colab_type": "text",
    "id": "9fwfW4Oa6gh7"
   },
   "source": [
    "* Use the command `!kaggle competitions download -p /content -c yelp-restaurant-photo-classification` to download all elements "
   ]
  },
  {
   "cell_type": "code",
   "execution_count": 12,
   "metadata": {
    "colab": {
     "base_uri": "https://localhost:8080/",
     "height": 87
    },
    "colab_type": "code",
    "id": "uIkRXcNNMcDD",
    "outputId": "44c9b4a5-be22-4fcb-a5f7-1b094e876bf6"
   },
   "outputs": [
    {
     "name": "stdout",
     "output_type": "stream",
     "text": [
      "Warning: Your Kaggle API key is readable by other users on this system! To fix this, you can run 'chmod 600 /root/.kaggle/kaggle.json'\n",
      "Downloading yelp-restaurant-photo-classification.zip to /content\n",
      "100% 13.2G/13.2G [03:48<00:00, 40.4MB/s]\n",
      "100% 13.2G/13.2G [03:48<00:00, 61.9MB/s]\n"
     ]
    }
   ],
   "source": [
    "!kaggle competitions download -p /content -c yelp-restaurant-photo-classification"
   ]
  },
  {
   "cell_type": "markdown",
   "metadata": {
    "colab_type": "text",
    "id": "HF3sUVO16syr"
   },
   "source": [
    "* Using the `!unzip` command, unzip the files into `.zip` format. "
   ]
  },
  {
   "cell_type": "code",
   "execution_count": 13,
   "metadata": {
    "colab": {
     "base_uri": "https://localhost:8080/",
     "height": 34
    },
    "colab_type": "code",
    "id": "CMYkyA_s8uvP",
    "outputId": "d0ed78f6-3fe3-473b-ce1d-ca2a83e30962"
   },
   "outputs": [
    {
     "name": "stdout",
     "output_type": "stream",
     "text": [
      "/content\n"
     ]
    }
   ],
   "source": [
    "cd /content"
   ]
  },
  {
   "cell_type": "code",
   "execution_count": 14,
   "metadata": {
    "colab": {
     "base_uri": "https://localhost:8080/",
     "height": 34
    },
    "colab_type": "code",
    "id": "UHjQM2Hynxag",
    "outputId": "7d67a0e9-9d9b-4b90-8614-b640ac4081bb"
   },
   "outputs": [
    {
     "name": "stdout",
     "output_type": "stream",
     "text": [
      "\u001b[0m\u001b[01;34msample_data\u001b[0m/  yelp-restaurant-photo-classification.zip\n"
     ]
    }
   ],
   "source": [
    "ls"
   ]
  },
  {
   "cell_type": "code",
   "execution_count": 15,
   "metadata": {
    "colab": {
     "base_uri": "https://localhost:8080/",
     "height": 141
    },
    "colab_type": "code",
    "id": "jOkZwZoarRUE",
    "outputId": "f47e71c9-9c9a-4aed-a834-c5136ac782b5"
   },
   "outputs": [
    {
     "name": "stdout",
     "output_type": "stream",
     "text": [
      "Archive:  yelp-restaurant-photo-classification.zip\n",
      "  inflating: sample_submission.csv.tgz  \n",
      "  inflating: test_photo_to_biz.csv.tgz  \n",
      "  inflating: test_photos.tgz         \n",
      "  inflating: train.csv.tgz           \n",
      "  inflating: train_photo_to_biz_ids.csv.tgz  \n",
      "  inflating: train_photos.tgz        \n"
     ]
    }
   ],
   "source": [
    "!unzip yelp-restaurant-photo-classification.zip"
   ]
  },
  {
   "cell_type": "markdown",
   "metadata": {
    "colab_type": "text",
    "id": "T-sY6F8h61FJ"
   },
   "source": [
    "* We have to manage `.tgz` files. So use the `tarfile` library to be able to decompress them again. Here is a link to the documentation to help you: [Tarfile Documentation](https://www.journaldev.com/17946/python-tarfile-module)"
   ]
  },
  {
   "cell_type": "code",
   "execution_count": 0,
   "metadata": {
    "colab": {},
    "colab_type": "code",
    "id": "JLQt84N7MdH3"
   },
   "outputs": [],
   "source": [
    "import tarfile\n",
    "file = tarfile.open(\"train_photos.tgz\", mode=\"r:gz\")\n",
    "file.extractall()\n",
    "file.close()"
   ]
  },
  {
   "cell_type": "code",
   "execution_count": 0,
   "metadata": {
    "colab": {},
    "colab_type": "code",
    "id": "RS_N05tbTEgj"
   },
   "outputs": [],
   "source": [
    "file = tarfile.open(\"train.csv.tgz\", mode=\"r:gz\")\n",
    "file.extractall()\n",
    "file.close()"
   ]
  },
  {
   "cell_type": "code",
   "execution_count": 0,
   "metadata": {
    "colab": {},
    "colab_type": "code",
    "id": "orNUsY2oTPgh"
   },
   "outputs": [],
   "source": [
    "file = tarfile.open(\"train_photo_to_biz_ids.csv.tgz\", mode=\"r:gz\")\n",
    "file.extractall()\n",
    "file.close()"
   ]
  },
  {
   "cell_type": "markdown",
   "metadata": {
    "colab_type": "text",
    "id": "GGhMEa9Y_-OW"
   },
   "source": [
    "# Data Pre-processing for Yelp Restaurant Photo Classification"
   ]
  },
  {
   "cell_type": "code",
   "execution_count": 21,
   "metadata": {
    "colab": {
     "base_uri": "https://localhost:8080/",
     "height": 34
    },
    "colab_type": "code",
    "id": "n6kDdokwAXY-",
    "outputId": "23d12620-d097-4704-af38-e125e36073bc"
   },
   "outputs": [
    {
     "name": "stdout",
     "output_type": "stream",
     "text": [
      "There are 234842 training images\n"
     ]
    }
   ],
   "source": [
    "# Import numpy and pandas\n",
    "import numpy as np\n",
    "import pandas as pd\n",
    "%matplotlib inline\n",
    "\n",
    "# Business id to labels\n",
    "biz2labels = pd.read_csv('train.csv', header = 0, names = ['business','labels']).fillna('')\n",
    "\n",
    "# Photo id to business id for the training dataset\n",
    "photo2biz_train = pd.read_csv('train_photo_to_biz_ids.csv', header = 0, names = ['photo','business'])\n",
    "\n",
    "# Get list of photo id \n",
    "photo_ids = np.array(photo2biz_train['photo'])\n",
    "\n",
    "# Print number of photos\n",
    "print('There are %d training images' % len(photo_ids))"
   ]
  },
  {
   "cell_type": "code",
   "execution_count": 22,
   "metadata": {
    "colab": {
     "base_uri": "https://localhost:8080/",
     "height": 377
    },
    "colab_type": "code",
    "id": "dH3som1HB3th",
    "outputId": "5f479f83-1b0d-4f20-f185-45aab32d324f"
   },
   "outputs": [
    {
     "data": {
      "text/html": [
       "<div>\n",
       "<style scoped>\n",
       "    .dataframe tbody tr th:only-of-type {\n",
       "        vertical-align: middle;\n",
       "    }\n",
       "\n",
       "    .dataframe tbody tr th {\n",
       "        vertical-align: top;\n",
       "    }\n",
       "\n",
       "    .dataframe thead th {\n",
       "        text-align: right;\n",
       "    }\n",
       "</style>\n",
       "<table border=\"1\" class=\"dataframe\">\n",
       "  <thead>\n",
       "    <tr style=\"text-align: right;\">\n",
       "      <th></th>\n",
       "      <th>labels</th>\n",
       "    </tr>\n",
       "    <tr>\n",
       "      <th>business</th>\n",
       "      <th></th>\n",
       "    </tr>\n",
       "  </thead>\n",
       "  <tbody>\n",
       "    <tr>\n",
       "      <th>1000</th>\n",
       "      <td>(1, 2, 3, 4, 5, 6, 7)</td>\n",
       "    </tr>\n",
       "    <tr>\n",
       "      <th>1001</th>\n",
       "      <td>(0, 1, 6, 8)</td>\n",
       "    </tr>\n",
       "    <tr>\n",
       "      <th>100</th>\n",
       "      <td>(1, 2, 4, 5, 6, 7)</td>\n",
       "    </tr>\n",
       "    <tr>\n",
       "      <th>1006</th>\n",
       "      <td>(1, 2, 4, 5, 6)</td>\n",
       "    </tr>\n",
       "    <tr>\n",
       "      <th>1010</th>\n",
       "      <td>(0, 6, 8)</td>\n",
       "    </tr>\n",
       "    <tr>\n",
       "      <th>101</th>\n",
       "      <td>(1, 2, 3, 4, 5, 6)</td>\n",
       "    </tr>\n",
       "    <tr>\n",
       "      <th>1011</th>\n",
       "      <td>(2, 3, 5, 6)</td>\n",
       "    </tr>\n",
       "    <tr>\n",
       "      <th>1012</th>\n",
       "      <td>(1, 2, 3, 5, 6)</td>\n",
       "    </tr>\n",
       "    <tr>\n",
       "      <th>1014</th>\n",
       "      <td>(1, 2, 4, 5, 6)</td>\n",
       "    </tr>\n",
       "    <tr>\n",
       "      <th>1015</th>\n",
       "      <td>(1, 5, 6, 7)</td>\n",
       "    </tr>\n",
       "  </tbody>\n",
       "</table>\n",
       "</div>"
      ],
      "text/plain": [
       "                         labels\n",
       "business                       \n",
       "1000      (1, 2, 3, 4, 5, 6, 7)\n",
       "1001               (0, 1, 6, 8)\n",
       "100          (1, 2, 4, 5, 6, 7)\n",
       "1006            (1, 2, 4, 5, 6)\n",
       "1010                  (0, 6, 8)\n",
       "101          (1, 2, 3, 4, 5, 6)\n",
       "1011               (2, 3, 5, 6)\n",
       "1012            (1, 2, 3, 5, 6)\n",
       "1014            (1, 2, 4, 5, 6)\n",
       "1015               (1, 5, 6, 7)"
      ]
     },
     "execution_count": 22,
     "metadata": {
      "tags": []
     },
     "output_type": "execute_result"
    }
   ],
   "source": [
    "# Create a tuple for labels class\n",
    "biz2labels['labels'] = biz2labels['labels'].apply(lambda x: tuple(sorted(int(t) for t in x.split())))\n",
    "biz2labels.set_index('business', inplace=True)\n",
    "biz2labels.head(n=10)"
   ]
  },
  {
   "cell_type": "code",
   "execution_count": 23,
   "metadata": {
    "colab": {
     "base_uri": "https://localhost:8080/",
     "height": 34
    },
    "colab_type": "code",
    "id": "GjyInT-lDdUg",
    "outputId": "f57aed5e-4b35-4d66-9498-6e347ce67b0b"
   },
   "outputs": [
    {
     "name": "stderr",
     "output_type": "stream",
     "text": [
      "Using TensorFlow backend.\n"
     ]
    }
   ],
   "source": [
    "# Import\n",
    "import tqdm\n",
    "import numpy as np\n",
    "import pandas as pd\n",
    "import matplotlib.pyplot as plt\n",
    "\n",
    "from keras.preprocessing import image\n",
    "\n",
    "# Define some functions\n",
    "def encode_label(labels):\n",
    "    target = np.zeros(9, dtype='int')\n",
    "    for l in labels:\n",
    "        target[l] = 1\n",
    "    return target\n",
    "\n",
    "\n",
    "def decode_label(x):\n",
    "    return tuple(np.where(x == 1)[0])\n",
    "\n",
    "\n",
    "def path_to_tensor(img_path):\n",
    "    img = image.load_img(img_path, target_size=(224, 224))\n",
    "    x = image.img_to_array(img)\n",
    "    return np.expand_dims(x, axis=0)\n",
    "\n",
    "\n",
    "def paths_to_tensor(img_paths):\n",
    "    tensors = [path_to_tensor(img_path) for img_path in tqdm.tqdm(img_paths)]\n",
    "    return np.vstack(tensors)\n",
    "\n",
    "\n",
    "def paths_to_tensor_nobar(img_paths):\n",
    "    tensors = [path_to_tensor(img_path) for img_path in img_paths]\n",
    "    return np.vstack(tensors)\n",
    "\n",
    "\n",
    "def load_dataset(file):\n",
    "    data = np.load(file)\n",
    "    images = data['img']\n",
    "    targets = data['target']\n",
    "    return images, targets\n",
    "\n",
    "\n",
    "def history(model):\n",
    "    plt.figure(figsize = (15, 5) )\n",
    "\n",
    "    plt.subplot(121)\n",
    "    plt.plot(model.history['loss'], color='blue', label='train')\n",
    "    plt.plot(model.history['val_loss'], color='red', label='valid')\n",
    "    plt.legend()\n",
    "    plt.xlabel('Epoch')\n",
    "    plt.ylabel('Loss Function')\n",
    "\n",
    "    plt.subplot(122)\n",
    "    plt.plot(model.history['accuracy'], color = 'blue', label='train')\n",
    "    plt.plot(model.history['val_accuracy'], color='red', label='valid')\n",
    "    plt.legend()\n",
    "    plt.xlabel('Epoch')\n",
    "    plt.ylabel('Accuracy')\n",
    "\n",
    "\n",
    "def true_pos(y_true, y_pred):\n",
    "    return np.sum(y_true * y_pred)\n",
    "\n",
    "\n",
    "def false_pos(y_true, y_pred):\n",
    "    return np.sum(y_true * (1. - y_pred))\n",
    "\n",
    "\n",
    "def false_neg(y_true, y_pred):\n",
    "    return np.sum((1. - y_true) * y_pred)\n",
    "\n",
    "\n",
    "def precision(y_true, y_pred):\n",
    "    return true_pos(y_true, y_pred) / (true_pos(y_true, y_pred) + false_pos(y_true, y_pred))\n",
    "\n",
    "\n",
    "def recall(y_true, y_pred):\n",
    "    return true_pos(y_true, y_pred) / (true_pos(y_true, y_pred) + false_neg(y_true, y_pred))\n",
    "\n",
    "\n",
    "def f1_score(y_true, y_pred):\n",
    "    return 2. / (1. / recall(y_true, y_pred) + 1. / precision(y_true, y_pred))"
   ]
  },
  {
   "cell_type": "code",
   "execution_count": 24,
   "metadata": {
    "colab": {
     "base_uri": "https://localhost:8080/",
     "height": 34
    },
    "colab_type": "code",
    "id": "g_PhOOgzB8c-",
    "outputId": "9ced0596-29b0-4977-8ad7-3014a2223fcd"
   },
   "outputs": [
    {
     "name": "stdout",
     "output_type": "stream",
     "text": [
      "Number of rows: 234842 - Number of columns: 9\n"
     ]
    }
   ],
   "source": [
    "# Join labels sequence of arrays along a new axis and apply encode_label\n",
    "photo_targets = np.vstack(biz2labels.loc[photo2biz_train['business']]['labels'].apply(encode_label))\n",
    "print('Number of rows: %d - Number of columns: %d' % (photo_targets.shape[0], photo_targets.shape[1]))"
   ]
  },
  {
   "cell_type": "code",
   "execution_count": 25,
   "metadata": {
    "colab": {
     "base_uri": "https://localhost:8080/",
     "height": 70
    },
    "colab_type": "code",
    "id": "VDfzELPKE2Ax",
    "outputId": "c3f5d1a2-f52f-48e5-a63b-4cc93d58d4c6"
   },
   "outputs": [
    {
     "name": "stdout",
     "output_type": "stream",
     "text": [
      "There are 176131 images in the training dataset\n",
      "There are 29355 images in the validation dataset\n",
      "There are 29356 images in the test dataset\n"
     ]
    }
   ],
   "source": [
    "# Make a train and a test split\n",
    "from sklearn.model_selection import train_test_split\n",
    "\n",
    "train_files, test_files, train_targets, test_targets = train_test_split(photo_ids,\n",
    "                                                                        photo_targets,\n",
    "                                                                        test_size=0.25,\n",
    "                                                                        random_state=7)\n",
    "\n",
    "valid_files, valid_targets = (test_files[:int(len(test_files)/2)], test_targets[:int(len(test_files)/2)])\n",
    "test_files, test_targets = (test_files[int(len(test_files)/2):], test_targets[int(len(test_files)/2):])\n",
    "\n",
    "print('There are %d images in the training dataset' % len(train_files))\n",
    "print('There are %d images in the validation dataset' % len(valid_files))\n",
    "print('There are %d images in the test dataset' % len(test_files))"
   ]
  },
  {
   "cell_type": "code",
   "execution_count": 0,
   "metadata": {
    "colab": {},
    "colab_type": "code",
    "id": "X_JF012NFBez"
   },
   "outputs": [],
   "source": [
    "# Save several arrays into a single file in uncompressed .npz format\n",
    "np.savez('train.npz', img=train_files, target=train_targets)\n",
    "np.savez('valid.npz', img=valid_files, target=valid_targets)\n",
    "np.savez('test.npz', img=test_files, target=test_targets)"
   ]
  },
  {
   "cell_type": "markdown",
   "metadata": {
    "colab_type": "text",
    "id": "qyxIarmfGviv"
   },
   "source": [
    "# Model Architecture"
   ]
  },
  {
   "cell_type": "code",
   "execution_count": 28,
   "metadata": {
    "colab": {
     "base_uri": "https://localhost:8080/",
     "height": 70
    },
    "colab_type": "code",
    "id": "tkswvHczFZ_v",
    "outputId": "f5463ce6-346d-40f9-8456-0363b7ec928e"
   },
   "outputs": [
    {
     "name": "stdout",
     "output_type": "stream",
     "text": [
      "There are 176131 images in the training dataset\n",
      "There are 29355 images in the validation dataset\n",
      "There are 29356 images in the test dataset\n"
     ]
    }
   ],
   "source": [
    "# Load dataset\n",
    "train_ids, train_targets = load_dataset('train.npz')\n",
    "valid_ids, valid_targets = load_dataset('valid.npz')\n",
    "test_ids, test_targets = load_dataset('test.npz')\n",
    "\n",
    "train_files = np.array(['/content/train_photos/' + str(i) + '.jpg' for i in train_ids])\n",
    "valid_files = np.array(['/content/train_photos/' + str(i) + '.jpg' for i in valid_ids])\n",
    "test_files = np.array(['/content/train_photos/' + str(i) + '.jpg' for i in test_ids])\n",
    "\n",
    "print('There are %d images in the training dataset' % len(train_files))\n",
    "print('There are %d images in the validation dataset' % len(valid_files))\n",
    "print('There are %d images in the test dataset' % len(test_files))"
   ]
  },
  {
   "cell_type": "code",
   "execution_count": 0,
   "metadata": {
    "colab": {},
    "colab_type": "code",
    "id": "Z-a7_P5M84aW"
   },
   "outputs": [],
   "source": [
    "# Sample data\n",
    "nb_train, nb_valid, nb_test = (10000,1000,1000)"
   ]
  },
  {
   "cell_type": "code",
   "execution_count": 30,
   "metadata": {
    "colab": {
     "base_uri": "https://localhost:8080/",
     "height": 70
    },
    "colab_type": "code",
    "id": "1xdQNFQf8VBZ",
    "outputId": "b1fbdde7-63c6-42e9-a8fd-e4d2ac9c09f8"
   },
   "outputs": [
    {
     "name": "stderr",
     "output_type": "stream",
     "text": [
      "100%|██████████| 10000/10000 [00:35<00:00, 283.18it/s]\n",
      "100%|██████████| 1000/1000 [00:05<00:00, 192.75it/s]\n",
      "100%|██████████| 1000/1000 [00:05<00:00, 192.41it/s]\n"
     ]
    }
   ],
   "source": [
    "# Preprocess resnet50\n",
    "from keras.applications.resnet50 import preprocess_input\n",
    "\n",
    "train_tensors = preprocess_input(paths_to_tensor(train_files[:nb_train]))\n",
    "valid_tensors = preprocess_input(paths_to_tensor(valid_files[:nb_valid]))\n",
    "test_tensors = preprocess_input(paths_to_tensor(test_files[:nb_test]))"
   ]
  },
  {
   "cell_type": "code",
   "execution_count": 0,
   "metadata": {
    "colab": {},
    "colab_type": "code",
    "id": "sXwIV-QZYQuZ"
   },
   "outputs": [],
   "source": [
    "# Import tensorflow\n",
    "from keras.applications.resnet50 import ResNet50\n",
    "import tensorflow as tf"
   ]
  },
  {
   "cell_type": "code",
   "execution_count": 32,
   "metadata": {
    "colab": {
     "base_uri": "https://localhost:8080/",
     "height": 87
    },
    "colab_type": "code",
    "id": "3LJiGmNQX5QV",
    "outputId": "ac9a5543-c69a-4e33-cc32-f0964b36a571"
   },
   "outputs": [
    {
     "name": "stderr",
     "output_type": "stream",
     "text": [
      "/usr/local/lib/python3.6/dist-packages/keras_applications/resnet50.py:265: UserWarning: The output shape of `ResNet50(include_top=False)` has been changed since Keras 2.2.0.\n",
      "  warnings.warn('The output shape of `ResNet50(include_top=False)` '\n"
     ]
    },
    {
     "name": "stdout",
     "output_type": "stream",
     "text": [
      "Downloading data from https://github.com/fchollet/deep-learning-models/releases/download/v0.2/resnet50_weights_tf_dim_ordering_tf_kernels_notop.h5\n",
      "94658560/94653016 [==============================] - 1s 0us/step\n"
     ]
    }
   ],
   "source": [
    "# Model resnet50\n",
    "\n",
    "model = ResNet50(include_top=False)"
   ]
  },
  {
   "cell_type": "code",
   "execution_count": 0,
   "metadata": {
    "colab": {},
    "colab_type": "code",
    "id": "qOHjfq9sd8oi"
   },
   "outputs": [],
   "source": [
    "# Predict\n",
    "train_resnet50 = model.predict(train_tensors)\n",
    "valid_resnet50 = model.predict(valid_tensors)\n",
    "test_resnet50  = model.predict(test_tensors)"
   ]
  },
  {
   "cell_type": "code",
   "execution_count": 0,
   "metadata": {
    "colab": {},
    "colab_type": "code",
    "id": "jk9b0OJomgJJ"
   },
   "outputs": [],
   "source": [
    "# Save\n",
    "np.savez('yelp_resnet50.npz', \n",
    "         train_features=train_resnet50, train_targets=train_targets[:nb_train],\n",
    "         valid_features=valid_resnet50, valid_targets=valid_targets[:nb_valid],\n",
    "         test_features=test_resnet50, test_targets=test_targets[:nb_test])"
   ]
  },
  {
   "cell_type": "markdown",
   "metadata": {
    "colab_type": "text",
    "id": "5MimgIYkQqHy"
   },
   "source": [
    "# Addition of the supervision layer"
   ]
  },
  {
   "cell_type": "code",
   "execution_count": 0,
   "metadata": {
    "colab": {},
    "colab_type": "code",
    "id": "erTvIugPm6fh"
   },
   "outputs": [],
   "source": [
    "bottleneck_features = np.load('yelp_resnet50.npz')\n",
    "train_resnet50 = bottleneck_features['train_features']\n",
    "valid_resnet50 = bottleneck_features['valid_features']\n",
    "test_resnet50 = bottleneck_features['test_features']\n",
    "\n",
    "train_targets = bottleneck_features['train_targets']\n",
    "valid_targets = bottleneck_features['valid_targets']\n",
    "test_targets = bottleneck_features['test_targets']"
   ]
  },
  {
   "cell_type": "code",
   "execution_count": 36,
   "metadata": {
    "colab": {
     "base_uri": "https://localhost:8080/",
     "height": 34
    },
    "colab_type": "code",
    "id": "pjT_LKbq4dyA",
    "outputId": "5b1ee8f0-1700-4e34-d1ef-f34a3a887ffe"
   },
   "outputs": [
    {
     "data": {
      "text/plain": [
       "(7, 7, 2048)"
      ]
     },
     "execution_count": 36,
     "metadata": {
      "tags": []
     },
     "output_type": "execute_result"
    }
   ],
   "source": [
    "train_resnet50.shape[1:]"
   ]
  },
  {
   "cell_type": "code",
   "execution_count": 37,
   "metadata": {
    "colab": {
     "base_uri": "https://localhost:8080/",
     "height": 230
    },
    "colab_type": "code",
    "id": "_sl3EWHvvHmx",
    "outputId": "63334f04-e9ce-407b-df1c-b2007d47d331"
   },
   "outputs": [
    {
     "name": "stdout",
     "output_type": "stream",
     "text": [
      "Model: \"sequential_1\"\n",
      "_________________________________________________________________\n",
      "Layer (type)                 Output Shape              Param #   \n",
      "=================================================================\n",
      "global_average_pooling2d_1 ( (None, 2048)              0         \n",
      "_________________________________________________________________\n",
      "dense_1 (Dense)              (None, 9)                 18441     \n",
      "=================================================================\n",
      "Total params: 18,441\n",
      "Trainable params: 18,441\n",
      "Non-trainable params: 0\n",
      "_________________________________________________________________\n"
     ]
    }
   ],
   "source": [
    "# Addition of the supervision layer\n",
    "from keras.models import Sequential\n",
    "from keras.layers import GlobalAveragePooling2D, Dense\n",
    "\n",
    "resnet50 = Sequential()\n",
    "resnet50.add(GlobalAveragePooling2D(input_shape=(7, 7, 2048)))\n",
    "resnet50.add(Dense(9, activation='sigmoid'))\n",
    "\n",
    "resnet50.summary()"
   ]
  },
  {
   "cell_type": "code",
   "execution_count": 0,
   "metadata": {
    "colab": {},
    "colab_type": "code",
    "id": "cc3EKPMdunOc"
   },
   "outputs": [],
   "source": [
    "# Compile and optimizer\n",
    "from keras.optimizers import SGD\n",
    "\n",
    "sgd = SGD(lr=0.0001, decay=1e-6, momentum=0.9, nesterov=True)\n",
    "resnet50.compile(loss='binary_crossentropy', optimizer=sgd, metrics=['accuracy'])"
   ]
  },
  {
   "cell_type": "code",
   "execution_count": 0,
   "metadata": {
    "colab": {},
    "colab_type": "code",
    "id": "JhCNBokstrCF"
   },
   "outputs": [],
   "source": [
    "# Fit \n",
    "from keras.callbacks import ModelCheckpoint, EarlyStopping\n",
    "\n",
    "checkpointer = ModelCheckpoint(filepath='weights_compare_resnet50.hdf5', save_best_only=True)\n",
    "checkimprovement = EarlyStopping(monitor='val_loss', min_delta=0, patience=20)\n",
    "\n",
    "history_resnet50 = resnet50.fit(train_resnet50, train_targets, \n",
    "                                validation_data=(valid_resnet50,valid_targets), \n",
    "                                epochs=1000, batch_size=64, verbose=0,\n",
    "                                callbacks=[checkpointer,checkimprovement])"
   ]
  },
  {
   "cell_type": "code",
   "execution_count": 40,
   "metadata": {
    "colab": {
     "base_uri": "https://localhost:8080/",
     "height": 334
    },
    "colab_type": "code",
    "id": "dTYzUkKRdBtB",
    "outputId": "165f033b-f519-4e14-d1be-001602b44bab"
   },
   "outputs": [
    {
     "data": {
      "image/png": "[encoded data removed]",
      "text/plain": [
       "<Figure size 1080x360 with 2 Axes>"
      ]
     },
     "metadata": {
      "needs_background": "light",
      "tags": []
     },
     "output_type": "display_data"
    }
   ],
   "source": [
    "history(history_resnet50)"
   ]
  },
  {
   "cell_type": "code",
   "execution_count": 0,
   "metadata": {
    "colab": {},
    "colab_type": "code",
    "id": "_9IgXoRDDPHW"
   },
   "outputs": [],
   "source": [
    "resnet50.load_weights('weights_compare_resnet50.hdf5')"
   ]
  },
  {
   "cell_type": "code",
   "execution_count": 42,
   "metadata": {
    "colab": {
     "base_uri": "https://localhost:8080/",
     "height": 34
    },
    "colab_type": "code",
    "id": "2kj4nHJkRqyN",
    "outputId": "ae795cb4-ad25-46f5-b565-0ae75ec6c759"
   },
   "outputs": [
    {
     "data": {
      "text/plain": [
       "(1000, 7, 7, 2048)"
      ]
     },
     "execution_count": 42,
     "metadata": {
      "tags": []
     },
     "output_type": "execute_result"
    }
   ],
   "source": [
    "test_resnet50.shape"
   ]
  },
  {
   "cell_type": "code",
   "execution_count": 43,
   "metadata": {
    "colab": {
     "base_uri": "https://localhost:8080/",
     "height": 34
    },
    "colab_type": "code",
    "id": "mZrc-ylPejda",
    "outputId": "c2d89c4f-a6e2-4d0e-8c14-90c6767ab26e"
   },
   "outputs": [
    {
     "name": "stdout",
     "output_type": "stream",
     "text": [
      "F1 score: 0.76108\n"
     ]
    }
   ],
   "source": [
    "# F1-score\n",
    "resnet50_predictions = (resnet50.predict(test_resnet50) >= 0.5).astype(int)\n",
    "resnet50_score = f1_score(test_targets, resnet50_predictions)\n",
    "print('F1 score: %.5f' % resnet50_score)"
   ]
  }
 ],
 "metadata": {
  "accelerator": "TPU",
  "colab": {
   "collapsed_sections": [],
   "machine_shape": "hm",
   "name": "2_Yelp_Multi_Label_Classification (4).ipynb",
   "provenance": [],
   "toc_visible": true
  },
  "kernelspec": {
   "display_name": "Python 3",
   "language": "python",
   "name": "python3"
  },
  "language_info": {
   "codemirror_mode": {
    "name": "ipython",
    "version": 3
   },
   "file_extension": ".py",
   "mimetype": "text/x-python",
   "name": "python",
   "nbconvert_exporter": "python",
   "pygments_lexer": "ipython3",
   "version": "3.7.4"
  }
 },
 "nbformat": 4,
 "nbformat_minor": 1
}
